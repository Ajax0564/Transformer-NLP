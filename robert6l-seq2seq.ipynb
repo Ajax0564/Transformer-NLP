{
 "cells": [
  {
   "cell_type": "code",
   "execution_count": 1,
   "id": "103d943e",
   "metadata": {
    "execution": {
     "iopub.execute_input": "2023-05-13T04:42:11.446087Z",
     "iopub.status.busy": "2023-05-13T04:42:11.445349Z",
     "iopub.status.idle": "2023-05-13T04:42:25.478812Z",
     "shell.execute_reply": "2023-05-13T04:42:25.477615Z"
    },
    "papermill": {
     "duration": 14.048107,
     "end_time": "2023-05-13T04:42:25.482056",
     "exception": false,
     "start_time": "2023-05-13T04:42:11.433949",
     "status": "completed"
    },
    "tags": []
   },
   "outputs": [],
   "source": [
    "# from transformers import EncoderDecoderModel\n",
    "from transformers import EncoderDecoderConfig, EncoderDecoderModel\n",
    "from transformers import AutoConfig\n",
    "from transformers import AutoTokenizer\n",
    "import torch\n",
    "from transformers import RobertaForMaskedLM, AutoModel, RobertaModel,RobertaConfig\n",
    "import os\n",
    "os.environ[\"WANDB_DISABLED\"] = \"true\"\n",
    "os.environ['CUDA_VISIBLE_DEVICES'] = \"0,1\"\n",
    "device = torch.device(\"cuda\")\n",
    "from torch.utils.data import Dataset, DataLoader, random_split\n",
    "import pandas as pd\n",
    "from transformers import Seq2SeqTrainer ,Seq2SeqTrainingArguments,DataCollatorForSeq2Seq,default_data_collator"
   ]
  },
  {
   "cell_type": "code",
   "execution_count": 2,
   "id": "c0172c90",
   "metadata": {
    "execution": {
     "iopub.execute_input": "2023-05-13T04:42:25.504275Z",
     "iopub.status.busy": "2023-05-13T04:42:25.503024Z",
     "iopub.status.idle": "2023-05-13T04:42:32.891562Z",
     "shell.execute_reply": "2023-05-13T04:42:32.890383Z"
    },
    "papermill": {
     "duration": 7.40155,
     "end_time": "2023-05-13T04:42:32.894506",
     "exception": false,
     "start_time": "2023-05-13T04:42:25.492956",
     "status": "completed"
    },
    "tags": []
   },
   "outputs": [
    {
     "name": "stderr",
     "output_type": "stream",
     "text": [
      "Some weights of RobertaForCausalLM were not initialized from the model checkpoint at ../input/transformer-distilation-pre/roberta_base_6layers_student and are newly initialized: ['encoder.layer.3.crossattention.self.query.bias', 'encoder.layer.3.crossattention.self.value.weight', 'encoder.layer.4.crossattention.self.query.bias', 'encoder.layer.4.crossattention.output.LayerNorm.weight', 'encoder.layer.3.crossattention.output.LayerNorm.bias', 'encoder.layer.2.crossattention.output.dense.bias', 'encoder.layer.5.crossattention.output.dense.bias', 'encoder.layer.4.crossattention.output.dense.weight', 'encoder.layer.4.crossattention.output.LayerNorm.bias', 'encoder.layer.0.crossattention.output.dense.weight', 'encoder.layer.5.crossattention.output.LayerNorm.weight', 'lm_head.layer_norm.weight', 'encoder.layer.0.crossattention.output.LayerNorm.weight', 'encoder.layer.1.crossattention.self.value.bias', 'encoder.layer.5.crossattention.self.value.weight', 'encoder.layer.1.crossattention.output.dense.weight', 'encoder.layer.1.crossattention.output.dense.bias', 'encoder.layer.3.crossattention.self.query.weight', 'encoder.layer.2.crossattention.output.LayerNorm.bias', 'encoder.layer.5.crossattention.output.LayerNorm.bias', 'encoder.layer.5.crossattention.self.key.weight', 'encoder.layer.0.crossattention.self.query.weight', 'encoder.layer.0.crossattention.output.LayerNorm.bias', 'encoder.layer.4.crossattention.self.key.weight', 'encoder.layer.3.crossattention.output.dense.weight', 'encoder.layer.1.crossattention.self.value.weight', 'encoder.layer.2.crossattention.self.value.weight', 'encoder.layer.5.crossattention.self.query.weight', 'encoder.layer.2.crossattention.output.dense.weight', 'encoder.layer.4.crossattention.self.value.weight', 'encoder.layer.0.crossattention.self.key.bias', 'lm_head.dense.weight', 'encoder.layer.4.crossattention.self.value.bias', 'encoder.layer.0.crossattention.self.query.bias', 'encoder.layer.0.crossattention.output.dense.bias', 'encoder.layer.3.crossattention.self.key.weight', 'encoder.layer.2.crossattention.self.value.bias', 'encoder.layer.4.crossattention.output.dense.bias', 'encoder.layer.5.crossattention.self.value.bias', 'encoder.layer.1.crossattention.self.query.bias', 'lm_head.dense.bias', 'encoder.layer.0.crossattention.self.value.bias', 'encoder.layer.2.crossattention.output.LayerNorm.weight', 'encoder.layer.1.crossattention.output.LayerNorm.bias', 'encoder.layer.3.crossattention.output.dense.bias', 'encoder.layer.1.crossattention.output.LayerNorm.weight', 'encoder.layer.0.crossattention.self.value.weight', 'encoder.layer.1.crossattention.self.key.weight', 'encoder.layer.3.crossattention.self.value.bias', 'encoder.layer.3.crossattention.self.key.bias', 'lm_head.bias', 'lm_head.layer_norm.bias', 'encoder.layer.1.crossattention.self.query.weight', 'encoder.layer.2.crossattention.self.query.weight', 'encoder.layer.3.crossattention.output.LayerNorm.weight', 'encoder.layer.5.crossattention.self.query.bias', 'encoder.layer.2.crossattention.self.key.bias', 'encoder.layer.0.crossattention.self.key.weight', 'encoder.layer.2.crossattention.self.query.bias', 'encoder.layer.4.crossattention.self.query.weight', 'encoder.layer.4.crossattention.self.key.bias', 'encoder.layer.2.crossattention.self.key.weight', 'encoder.layer.1.crossattention.self.key.bias', 'encoder.layer.5.crossattention.output.dense.weight', 'encoder.layer.5.crossattention.self.key.bias']\n",
      "You should probably TRAIN this model on a down-stream task to be able to use it for predictions and inference.\n"
     ]
    }
   ],
   "source": [
    "model = EncoderDecoderModel.from_encoder_decoder_pretrained('../input/transformer-distilation-pre/roberta_base_6layers_student','../input/transformer-distilation-pre/roberta_base_6layers_student')"
   ]
  },
  {
   "cell_type": "code",
   "execution_count": 3,
   "id": "94735412",
   "metadata": {
    "execution": {
     "iopub.execute_input": "2023-05-13T04:42:32.915712Z",
     "iopub.status.busy": "2023-05-13T04:42:32.913704Z",
     "iopub.status.idle": "2023-05-13T04:42:33.725229Z",
     "shell.execute_reply": "2023-05-13T04:42:33.724032Z"
    },
    "papermill": {
     "duration": 0.824284,
     "end_time": "2023-05-13T04:42:33.727832",
     "exception": false,
     "start_time": "2023-05-13T04:42:32.903548",
     "status": "completed"
    },
    "tags": []
   },
   "outputs": [
    {
     "data": {
      "text/html": [
       "<div>\n",
       "<style scoped>\n",
       "    .dataframe tbody tr th:only-of-type {\n",
       "        vertical-align: middle;\n",
       "    }\n",
       "\n",
       "    .dataframe tbody tr th {\n",
       "        vertical-align: top;\n",
       "    }\n",
       "\n",
       "    .dataframe thead th {\n",
       "        text-align: right;\n",
       "    }\n",
       "</style>\n",
       "<table border=\"1\" class=\"dataframe\">\n",
       "  <thead>\n",
       "    <tr style=\"text-align: right;\">\n",
       "      <th></th>\n",
       "      <th>headlines</th>\n",
       "      <th>text</th>\n",
       "    </tr>\n",
       "  </thead>\n",
       "  <tbody>\n",
       "    <tr>\n",
       "      <th>0</th>\n",
       "      <td>upGrad learner switches to career in ML &amp; Al w...</td>\n",
       "      <td>Saurav Kant, an alumnus of upGrad and IIIT-B's...</td>\n",
       "    </tr>\n",
       "  </tbody>\n",
       "</table>\n",
       "</div>"
      ],
      "text/plain": [
       "                                           headlines  \\\n",
       "0  upGrad learner switches to career in ML & Al w...   \n",
       "\n",
       "                                                text  \n",
       "0  Saurav Kant, an alumnus of upGrad and IIIT-B's...  "
      ]
     },
     "execution_count": 3,
     "metadata": {},
     "output_type": "execute_result"
    }
   ],
   "source": [
    "df = pd.read_csv('/kaggle/input/news-summary/news_summary_more.csv')\n",
    "df.head(1)\n",
    "\n",
    "# padding=True' 'truncation=True'"
   ]
  },
  {
   "cell_type": "code",
   "execution_count": 4,
   "id": "decbe172",
   "metadata": {
    "execution": {
     "iopub.execute_input": "2023-05-13T04:42:33.748287Z",
     "iopub.status.busy": "2023-05-13T04:42:33.746440Z",
     "iopub.status.idle": "2023-05-13T04:42:33.758156Z",
     "shell.execute_reply": "2023-05-13T04:42:33.757189Z"
    },
    "papermill": {
     "duration": 0.02389,
     "end_time": "2023-05-13T04:42:33.760531",
     "exception": false,
     "start_time": "2023-05-13T04:42:33.736641",
     "status": "completed"
    },
    "tags": []
   },
   "outputs": [],
   "source": [
    "class SummaryDataset(Dataset):\n",
    "    def __init__(self, df,tokenizer,):\n",
    "        self.df = df\n",
    "        self.tokenizer= tokenizer\n",
    "        self.max_length1 = 512\n",
    "        self.max_length2 = 32\n",
    "    def __len__(self,):\n",
    "        return len(self.df)\n",
    "    def __getitem__(self,idx):\n",
    "        text = self.df.text.iloc[idx]\n",
    "        headlines = self.df.headlines.iloc[idx]\n",
    "        inputs_text = self.tokenizer(text,padding='max_length',max_length=self.max_length1,truncation=True)\n",
    "        headlines_text = self.tokenizer(headlines,padding='max_length',max_length=self.max_length2,truncation=True)\n",
    "        out = {}\n",
    "        out[\"input_ids\"] = inputs_text.input_ids\n",
    "        out[\"attention_mask\"] = inputs_text.attention_mask\n",
    "        out[\"decoder_input_ids\"] = headlines_text.input_ids\n",
    "        out[\"decoder_attention_mask\"] = headlines_text.attention_mask\n",
    "        out[\"labels\"] = headlines_text.input_ids.copy()\n",
    "\n",
    "        # because roberta automatically shifts the labels, the labels correspond exactly to `decoder_input_ids`. \n",
    "        # We have to make sure that the PAD token is ignored\n",
    "        out[\"labels\"] = [-100 if token == tokenizer.pad_token_id else token for token  in out[\"labels\"]]\n",
    "        return out\n",
    "    \n",
    "    "
   ]
  },
  {
   "cell_type": "code",
   "execution_count": 5,
   "id": "fa914f26",
   "metadata": {
    "execution": {
     "iopub.execute_input": "2023-05-13T04:42:33.780148Z",
     "iopub.status.busy": "2023-05-13T04:42:33.779172Z",
     "iopub.status.idle": "2023-05-13T04:42:35.743071Z",
     "shell.execute_reply": "2023-05-13T04:42:35.741994Z"
    },
    "papermill": {
     "duration": 1.976475,
     "end_time": "2023-05-13T04:42:35.746038",
     "exception": false,
     "start_time": "2023-05-13T04:42:33.769563",
     "status": "completed"
    },
    "tags": []
   },
   "outputs": [
    {
     "data": {
      "application/vnd.jupyter.widget-view+json": {
       "model_id": "871e5f922c0e499a8844ebc78ee962bb",
       "version_major": 2,
       "version_minor": 0
      },
      "text/plain": [
       "Downloading (…)lve/main/config.json:   0%|          | 0.00/481 [00:00<?, ?B/s]"
      ]
     },
     "metadata": {},
     "output_type": "display_data"
    },
    {
     "data": {
      "application/vnd.jupyter.widget-view+json": {
       "model_id": "d0f26f7e65394d30aa850017aee245e6",
       "version_major": 2,
       "version_minor": 0
      },
      "text/plain": [
       "Downloading (…)olve/main/vocab.json:   0%|          | 0.00/899k [00:00<?, ?B/s]"
      ]
     },
     "metadata": {},
     "output_type": "display_data"
    },
    {
     "data": {
      "application/vnd.jupyter.widget-view+json": {
       "model_id": "102152eb2145420a8940800e078630c5",
       "version_major": 2,
       "version_minor": 0
      },
      "text/plain": [
       "Downloading (…)olve/main/merges.txt:   0%|          | 0.00/456k [00:00<?, ?B/s]"
      ]
     },
     "metadata": {},
     "output_type": "display_data"
    },
    {
     "data": {
      "application/vnd.jupyter.widget-view+json": {
       "model_id": "44bec651d2694c1fae2aca95b4b4e9a7",
       "version_major": 2,
       "version_minor": 0
      },
      "text/plain": [
       "Downloading (…)/main/tokenizer.json:   0%|          | 0.00/1.36M [00:00<?, ?B/s]"
      ]
     },
     "metadata": {},
     "output_type": "display_data"
    }
   ],
   "source": [
    "tokenizer = AutoTokenizer.from_pretrained(\"roberta-base\")\n",
    "# model = EncoderDecoderModel.from_encoder_decoder_pretrained(\"roberta-base\",\"roberta-base\")"
   ]
  },
  {
   "cell_type": "code",
   "execution_count": 6,
   "id": "7ea63420",
   "metadata": {
    "execution": {
     "iopub.execute_input": "2023-05-13T04:42:35.766529Z",
     "iopub.status.busy": "2023-05-13T04:42:35.766200Z",
     "iopub.status.idle": "2023-05-13T04:42:35.773402Z",
     "shell.execute_reply": "2023-05-13T04:42:35.772312Z"
    },
    "papermill": {
     "duration": 0.020155,
     "end_time": "2023-05-13T04:42:35.775721",
     "exception": false,
     "start_time": "2023-05-13T04:42:35.755566",
     "status": "completed"
    },
    "tags": []
   },
   "outputs": [],
   "source": [
    "model.config.decoder_start_token_id = tokenizer.cls_token_id\n",
    "model.config.pad_token_id = tokenizer.pad_token_id\n",
    "# make sure vocab size is set correctly\n",
    "model.config.vocab_size = model.config.encoder.vocab_size\n",
    "# set beam search parameters\n",
    "model.config.eos_token_id = tokenizer.sep_token_id\n",
    "model.config.decoder_start_token_id = tokenizer.bos_token_id\n",
    "model.config.max_length = 32\n",
    "model.config.early_stopping = True\n",
    "model.config.no_repeat_ngram_size = 3\n",
    "model.config.length_penalty = 2.0\n",
    "model.config.num_beams = 5"
   ]
  },
  {
   "cell_type": "code",
   "execution_count": 7,
   "id": "1d3826f1",
   "metadata": {
    "execution": {
     "iopub.execute_input": "2023-05-13T04:42:35.795167Z",
     "iopub.status.busy": "2023-05-13T04:42:35.794825Z",
     "iopub.status.idle": "2023-05-13T04:42:48.495054Z",
     "shell.execute_reply": "2023-05-13T04:42:48.493934Z"
    },
    "papermill": {
     "duration": 12.712953,
     "end_time": "2023-05-13T04:42:48.497810",
     "exception": false,
     "start_time": "2023-05-13T04:42:35.784857",
     "status": "completed"
    },
    "tags": []
   },
   "outputs": [
    {
     "data": {
      "text/plain": [
       "<All keys matched successfully>"
      ]
     },
     "execution_count": 7,
     "metadata": {},
     "output_type": "execute_result"
    }
   ],
   "source": [
    "model.load_state_dict(torch.load(\"/kaggle/input/roberta6lseq2seq/pytorch_model.bin\"))"
   ]
  },
  {
   "cell_type": "code",
   "execution_count": 8,
   "id": "e253951e",
   "metadata": {
    "execution": {
     "iopub.execute_input": "2023-05-13T04:42:48.518297Z",
     "iopub.status.busy": "2023-05-13T04:42:48.517964Z",
     "iopub.status.idle": "2023-05-13T04:42:48.567935Z",
     "shell.execute_reply": "2023-05-13T04:42:48.566784Z"
    },
    "papermill": {
     "duration": 0.06318,
     "end_time": "2023-05-13T04:42:48.570820",
     "exception": false,
     "start_time": "2023-05-13T04:42:48.507640",
     "status": "completed"
    },
    "tags": []
   },
   "outputs": [],
   "source": [
    "# debug = True\n",
    "# if debug:\n",
    "#     df = df.sample(frac=0.1,random_state=200) \n",
    "train_df=df.sample(frac=0.9,random_state=200)\n",
    "val_df=df.drop(train_df.index)\n",
    "\n",
    "# train_dataset = SummaryDataset(train_df,tokenizer=tokenizer)\n",
    "# val_dataset = SummaryDataset(val_df,tokenizer=tokenizer)"
   ]
  },
  {
   "cell_type": "code",
   "execution_count": 9,
   "id": "e3d8e0af",
   "metadata": {
    "execution": {
     "iopub.execute_input": "2023-05-13T04:42:48.592761Z",
     "iopub.status.busy": "2023-05-13T04:42:48.592454Z",
     "iopub.status.idle": "2023-05-13T04:42:48.598997Z",
     "shell.execute_reply": "2023-05-13T04:42:48.598027Z"
    },
    "papermill": {
     "duration": 0.019696,
     "end_time": "2023-05-13T04:42:48.601447",
     "exception": false,
     "start_time": "2023-05-13T04:42:48.581751",
     "status": "completed"
    },
    "tags": []
   },
   "outputs": [],
   "source": [
    "val_df = val_df.sample(100)"
   ]
  },
  {
   "cell_type": "code",
   "execution_count": 10,
   "id": "51d30926",
   "metadata": {
    "execution": {
     "iopub.execute_input": "2023-05-13T04:42:48.622086Z",
     "iopub.status.busy": "2023-05-13T04:42:48.621773Z",
     "iopub.status.idle": "2023-05-13T04:42:48.627663Z",
     "shell.execute_reply": "2023-05-13T04:42:48.626706Z"
    },
    "papermill": {
     "duration": 0.018988,
     "end_time": "2023-05-13T04:42:48.629886",
     "exception": false,
     "start_time": "2023-05-13T04:42:48.610898",
     "status": "completed"
    },
    "tags": []
   },
   "outputs": [],
   "source": [
    "# val_df"
   ]
  },
  {
   "cell_type": "code",
   "execution_count": 11,
   "id": "228cd35b",
   "metadata": {
    "execution": {
     "iopub.execute_input": "2023-05-13T04:42:48.650181Z",
     "iopub.status.busy": "2023-05-13T04:42:48.649321Z",
     "iopub.status.idle": "2023-05-13T04:42:48.655114Z",
     "shell.execute_reply": "2023-05-13T04:42:48.653895Z"
    },
    "papermill": {
     "duration": 0.018286,
     "end_time": "2023-05-13T04:42:48.657458",
     "exception": false,
     "start_time": "2023-05-13T04:42:48.639172",
     "status": "completed"
    },
    "tags": []
   },
   "outputs": [],
   "source": [
    "train_dataset = SummaryDataset(train_df,tokenizer=tokenizer)\n",
    "val_dataset = SummaryDataset(val_df,tokenizer=tokenizer)"
   ]
  },
  {
   "cell_type": "code",
   "execution_count": 12,
   "id": "4318822e",
   "metadata": {
    "execution": {
     "iopub.execute_input": "2023-05-13T04:42:48.677730Z",
     "iopub.status.busy": "2023-05-13T04:42:48.676858Z",
     "iopub.status.idle": "2023-05-13T04:42:48.686780Z",
     "shell.execute_reply": "2023-05-13T04:42:48.685647Z"
    },
    "papermill": {
     "duration": 0.022518,
     "end_time": "2023-05-13T04:42:48.689193",
     "exception": false,
     "start_time": "2023-05-13T04:42:48.666675",
     "status": "completed"
    },
    "tags": []
   },
   "outputs": [
    {
     "name": "stderr",
     "output_type": "stream",
     "text": [
      "Using the `WANDB_DISABLED` environment variable is deprecated and will be removed in v5. Use the --report_to flag to control the integrations used for logging result (for instance --report_to none).\n"
     ]
    }
   ],
   "source": [
    "training_args = Seq2SeqTrainingArguments(\n",
    "    output_dir='RobertaBase6LSeq2Seq',\n",
    "    per_device_train_batch_size=8,\n",
    "    per_device_eval_batch_size=8,\n",
    "    predict_with_generate=True,\n",
    "    evaluation_strategy=\"epoch\",\n",
    "    do_train=True,\n",
    "    do_eval=True,\n",
    "    save_strategy = \"epoch\",\n",
    "    logging_steps=1024,\n",
    "    load_best_model_at_end=True,\n",
    "    warmup_steps=1024,  \n",
    "    learning_rate = 5e-5,\n",
    "    num_train_epochs = 5, #TRAIN_EPOCHS\n",
    "    overwrite_output_dir=True,\n",
    "    save_total_limit=2,\n",
    ")"
   ]
  },
  {
   "cell_type": "code",
   "execution_count": 13,
   "id": "bb84168a",
   "metadata": {
    "execution": {
     "iopub.execute_input": "2023-05-13T04:42:48.710926Z",
     "iopub.status.busy": "2023-05-13T04:42:48.709058Z",
     "iopub.status.idle": "2023-05-13T04:43:15.958816Z",
     "shell.execute_reply": "2023-05-13T04:43:15.957458Z"
    },
    "papermill": {
     "duration": 27.263273,
     "end_time": "2023-05-13T04:43:15.961745",
     "exception": false,
     "start_time": "2023-05-13T04:42:48.698472",
     "status": "completed"
    },
    "tags": []
   },
   "outputs": [
    {
     "name": "stdout",
     "output_type": "stream",
     "text": [
      "Requirement already satisfied: datasets in /opt/conda/lib/python3.7/site-packages (2.1.0)\r\n",
      "Requirement already satisfied: xxhash in /opt/conda/lib/python3.7/site-packages (from datasets) (3.2.0)\r\n",
      "Requirement already satisfied: importlib-metadata in /opt/conda/lib/python3.7/site-packages (from datasets) (4.11.4)\r\n",
      "Requirement already satisfied: pyarrow>=5.0.0 in /opt/conda/lib/python3.7/site-packages (from datasets) (5.0.0)\r\n",
      "Requirement already satisfied: huggingface-hub<1.0.0,>=0.1.0 in /opt/conda/lib/python3.7/site-packages (from datasets) (0.12.1)\r\n",
      "Requirement already satisfied: aiohttp in /opt/conda/lib/python3.7/site-packages (from datasets) (3.8.3)\r\n",
      "Requirement already satisfied: packaging in /opt/conda/lib/python3.7/site-packages (from datasets) (23.0)\r\n",
      "Requirement already satisfied: numpy>=1.17 in /opt/conda/lib/python3.7/site-packages (from datasets) (1.21.6)\r\n",
      "Requirement already satisfied: requests>=2.19.0 in /opt/conda/lib/python3.7/site-packages (from datasets) (2.28.2)\r\n",
      "Requirement already satisfied: multiprocess in /opt/conda/lib/python3.7/site-packages (from datasets) (0.70.14)\r\n",
      "Requirement already satisfied: pandas in /opt/conda/lib/python3.7/site-packages (from datasets) (1.3.5)\r\n",
      "Requirement already satisfied: fsspec[http]>=2021.05.0 in /opt/conda/lib/python3.7/site-packages (from datasets) (2023.1.0)\r\n",
      "Requirement already satisfied: responses<0.19 in /opt/conda/lib/python3.7/site-packages (from datasets) (0.18.0)\r\n",
      "Requirement already satisfied: tqdm>=4.62.1 in /opt/conda/lib/python3.7/site-packages (from datasets) (4.64.1)\r\n",
      "Requirement already satisfied: dill in /opt/conda/lib/python3.7/site-packages (from datasets) (0.3.6)\r\n",
      "Requirement already satisfied: typing-extensions>=3.7.4 in /opt/conda/lib/python3.7/site-packages (from aiohttp->datasets) (4.4.0)\r\n",
      "Requirement already satisfied: yarl<2.0,>=1.0 in /opt/conda/lib/python3.7/site-packages (from aiohttp->datasets) (1.8.2)\r\n",
      "Requirement already satisfied: attrs>=17.3.0 in /opt/conda/lib/python3.7/site-packages (from aiohttp->datasets) (22.2.0)\r\n",
      "Requirement already satisfied: async-timeout<5.0,>=4.0.0a3 in /opt/conda/lib/python3.7/site-packages (from aiohttp->datasets) (4.0.2)\r\n",
      "Requirement already satisfied: charset-normalizer<3.0,>=2.0 in /opt/conda/lib/python3.7/site-packages (from aiohttp->datasets) (2.1.1)\r\n",
      "Requirement already satisfied: aiosignal>=1.1.2 in /opt/conda/lib/python3.7/site-packages (from aiohttp->datasets) (1.3.1)\r\n",
      "Requirement already satisfied: multidict<7.0,>=4.5 in /opt/conda/lib/python3.7/site-packages (from aiohttp->datasets) (6.0.4)\r\n",
      "Requirement already satisfied: frozenlist>=1.1.1 in /opt/conda/lib/python3.7/site-packages (from aiohttp->datasets) (1.3.3)\r\n",
      "Requirement already satisfied: asynctest==0.13.0 in /opt/conda/lib/python3.7/site-packages (from aiohttp->datasets) (0.13.0)\r\n",
      "Requirement already satisfied: filelock in /opt/conda/lib/python3.7/site-packages (from huggingface-hub<1.0.0,>=0.1.0->datasets) (3.9.0)\r\n",
      "Requirement already satisfied: pyyaml>=5.1 in /opt/conda/lib/python3.7/site-packages (from huggingface-hub<1.0.0,>=0.1.0->datasets) (6.0)\r\n",
      "Requirement already satisfied: idna<4,>=2.5 in /opt/conda/lib/python3.7/site-packages (from requests>=2.19.0->datasets) (3.4)\r\n",
      "Requirement already satisfied: urllib3<1.27,>=1.21.1 in /opt/conda/lib/python3.7/site-packages (from requests>=2.19.0->datasets) (1.26.14)\r\n",
      "Requirement already satisfied: certifi>=2017.4.17 in /opt/conda/lib/python3.7/site-packages (from requests>=2.19.0->datasets) (2022.12.7)\r\n",
      "Requirement already satisfied: zipp>=0.5 in /opt/conda/lib/python3.7/site-packages (from importlib-metadata->datasets) (3.11.0)\r\n",
      "Requirement already satisfied: python-dateutil>=2.7.3 in /opt/conda/lib/python3.7/site-packages (from pandas->datasets) (2.8.2)\r\n",
      "Requirement already satisfied: pytz>=2017.3 in /opt/conda/lib/python3.7/site-packages (from pandas->datasets) (2022.7.1)\r\n",
      "Requirement already satisfied: six>=1.5 in /opt/conda/lib/python3.7/site-packages (from python-dateutil>=2.7.3->pandas->datasets) (1.16.0)\r\n",
      "\u001b[33mWARNING: Running pip as the 'root' user can result in broken permissions and conflicting behaviour with the system package manager. It is recommended to use a virtual environment instead: https://pip.pypa.io/warnings/venv\u001b[0m\u001b[33m\r\n",
      "\u001b[0mCollecting rouge_score\r\n",
      "  Downloading rouge_score-0.1.2.tar.gz (17 kB)\r\n",
      "  Preparing metadata (setup.py) ... \u001b[?25l-\b \bdone\r\n",
      "\u001b[?25hRequirement already satisfied: absl-py in /opt/conda/lib/python3.7/site-packages (from rouge_score) (1.4.0)\r\n",
      "Requirement already satisfied: nltk in /opt/conda/lib/python3.7/site-packages (from rouge_score) (3.2.4)\r\n",
      "Requirement already satisfied: numpy in /opt/conda/lib/python3.7/site-packages (from rouge_score) (1.21.6)\r\n",
      "Requirement already satisfied: six>=1.14.0 in /opt/conda/lib/python3.7/site-packages (from rouge_score) (1.16.0)\r\n",
      "Building wheels for collected packages: rouge_score\r\n",
      "  Building wheel for rouge_score (setup.py) ... \u001b[?25l-\b \b\\\b \bdone\r\n",
      "\u001b[?25h  Created wheel for rouge_score: filename=rouge_score-0.1.2-py3-none-any.whl size=24955 sha256=9c754d9a8b4ae441efdbd41beed4b5a180fbb2accac156f8d1538b999ec7876f\r\n",
      "  Stored in directory: /root/.cache/pip/wheels/8e/6b/70/59daa7c90a238610e34bac5916e001fe3d9bb0ec59c8cf5518\r\n",
      "Successfully built rouge_score\r\n",
      "Installing collected packages: rouge_score\r\n",
      "Successfully installed rouge_score-0.1.2\r\n",
      "\u001b[33mWARNING: Running pip as the 'root' user can result in broken permissions and conflicting behaviour with the system package manager. It is recommended to use a virtual environment instead: https://pip.pypa.io/warnings/venv\u001b[0m\u001b[33m\r\n",
      "\u001b[0m"
     ]
    }
   ],
   "source": [
    "!pip install datasets\n",
    "!pip install rouge_score"
   ]
  },
  {
   "cell_type": "code",
   "execution_count": 14,
   "id": "62f5fe48",
   "metadata": {
    "execution": {
     "iopub.execute_input": "2023-05-13T04:43:15.985427Z",
     "iopub.status.busy": "2023-05-13T04:43:15.985072Z",
     "iopub.status.idle": "2023-05-13T04:43:16.995610Z",
     "shell.execute_reply": "2023-05-13T04:43:16.994421Z"
    },
    "papermill": {
     "duration": 1.025518,
     "end_time": "2023-05-13T04:43:16.998631",
     "exception": false,
     "start_time": "2023-05-13T04:43:15.973113",
     "status": "completed"
    },
    "tags": []
   },
   "outputs": [
    {
     "data": {
      "application/vnd.jupyter.widget-view+json": {
       "model_id": "e172bea8bd9d49d088f2c3e93c399d81",
       "version_major": 2,
       "version_minor": 0
      },
      "text/plain": [
       "Downloading builder script:   0%|          | 0.00/2.16k [00:00<?, ?B/s]"
      ]
     },
     "metadata": {},
     "output_type": "display_data"
    }
   ],
   "source": [
    "import datasets\n",
    "rouge = datasets.load_metric(\"rouge\")"
   ]
  },
  {
   "cell_type": "code",
   "execution_count": 15,
   "id": "647032ee",
   "metadata": {
    "execution": {
     "iopub.execute_input": "2023-05-13T04:43:17.027191Z",
     "iopub.status.busy": "2023-05-13T04:43:17.026803Z",
     "iopub.status.idle": "2023-05-13T04:43:17.034996Z",
     "shell.execute_reply": "2023-05-13T04:43:17.033736Z"
    },
    "papermill": {
     "duration": 0.025097,
     "end_time": "2023-05-13T04:43:17.037499",
     "exception": false,
     "start_time": "2023-05-13T04:43:17.012402",
     "status": "completed"
    },
    "tags": []
   },
   "outputs": [],
   "source": [
    "def compute_metrics(pred):\n",
    "    labels_ids = pred.label_ids\n",
    "    pred_ids = pred.predictions\n",
    "\n",
    "    pred_str = tokenizer.batch_decode(pred_ids, skip_special_tokens=True)\n",
    "    labels_ids[labels_ids == -100] = tokenizer.pad_token_id\n",
    "    label_str = tokenizer.batch_decode(labels_ids, skip_special_tokens=True)\n",
    "\n",
    "    rouge_output = rouge.compute(predictions=pred_str, references=label_str, rouge_types=[\"rouge2\"])[\"rouge2\"].mid\n",
    "\n",
    "    return {\n",
    "        \"rouge2_precision\": round(rouge_output.precision, 4),\n",
    "        \"rouge2_recall\": round(rouge_output.recall, 4),\n",
    "        \"rouge2_fmeasure\": round(rouge_output.fmeasure, 4),\n",
    "    }"
   ]
  },
  {
   "cell_type": "code",
   "execution_count": 16,
   "id": "4beffeca",
   "metadata": {
    "execution": {
     "iopub.execute_input": "2023-05-13T04:43:17.064525Z",
     "iopub.status.busy": "2023-05-13T04:43:17.064194Z",
     "iopub.status.idle": "2023-05-13T04:43:17.069393Z",
     "shell.execute_reply": "2023-05-13T04:43:17.068140Z"
    },
    "papermill": {
     "duration": 0.021503,
     "end_time": "2023-05-13T04:43:17.071926",
     "exception": false,
     "start_time": "2023-05-13T04:43:17.050423",
     "status": "completed"
    },
    "tags": []
   },
   "outputs": [],
   "source": [
    "data_collator = DataCollatorForSeq2Seq(tokenizer, model=model)"
   ]
  },
  {
   "cell_type": "code",
   "execution_count": 17,
   "id": "0a8581c9",
   "metadata": {
    "execution": {
     "iopub.execute_input": "2023-05-13T04:43:17.100173Z",
     "iopub.status.busy": "2023-05-13T04:43:17.098420Z",
     "iopub.status.idle": "2023-05-13T04:43:17.314580Z",
     "shell.execute_reply": "2023-05-13T04:43:17.313397Z"
    },
    "papermill": {
     "duration": 0.233036,
     "end_time": "2023-05-13T04:43:17.317705",
     "exception": false,
     "start_time": "2023-05-13T04:43:17.084669",
     "status": "completed"
    },
    "tags": []
   },
   "outputs": [],
   "source": [
    "trainer = Seq2SeqTrainer(\n",
    "    tokenizer=tokenizer,\n",
    "    model=model,\n",
    "    args=training_args,\n",
    "    compute_metrics=compute_metrics,\n",
    "    train_dataset=train_dataset,\n",
    "    eval_dataset=val_dataset,\n",
    "    data_collator=data_collator,\n",
    ")\n"
   ]
  },
  {
   "cell_type": "code",
   "execution_count": 18,
   "id": "46f2f33c",
   "metadata": {
    "execution": {
     "iopub.execute_input": "2023-05-13T04:43:17.343797Z",
     "iopub.status.busy": "2023-05-13T04:43:17.343458Z",
     "iopub.status.idle": "2023-05-13T10:18:56.562254Z",
     "shell.execute_reply": "2023-05-13T10:18:56.560996Z"
    },
    "papermill": {
     "duration": 20139.23436,
     "end_time": "2023-05-13T10:18:56.564730",
     "exception": false,
     "start_time": "2023-05-13T04:43:17.330370",
     "status": "completed"
    },
    "tags": []
   },
   "outputs": [
    {
     "name": "stderr",
     "output_type": "stream",
     "text": [
      "/opt/conda/lib/python3.7/site-packages/transformers/optimization.py:310: FutureWarning: This implementation of AdamW is deprecated and will be removed in a future version. Use the PyTorch implementation torch.optim.AdamW instead, or set `no_deprecation_warning=True` to disable this warning\n",
      "  FutureWarning,\n",
      "***** Running training *****\n",
      "  Num examples = 88561\n",
      "  Num Epochs = 5\n",
      "  Instantaneous batch size per device = 8\n",
      "  Total train batch size (w. parallel, distributed & accumulation) = 16\n",
      "  Gradient Accumulation steps = 1\n",
      "  Total optimization steps = 27680\n",
      "  Number of trainable parameters = 178472025\n",
      "You're using a RobertaTokenizerFast tokenizer. Please note that with a fast tokenizer, using the `__call__` method is faster than using a method to encode the text followed by a call to the `pad` method to get a padded encoding.\n",
      "/opt/conda/lib/python3.7/site-packages/transformers/models/encoder_decoder/modeling_encoder_decoder.py:634: FutureWarning: Version v4.12.0 introduces a better way to train encoder-decoder models by computing the loss inside the encoder-decoder framework rather than in the decoder itself. You may observe training discrepancies if fine-tuning a model trained with versions anterior to 4.12.0. The decoder_input_ids are now created based on the labels, no need to pass them yourself anymore.\n",
      "  warnings.warn(DEPRECATION_WARNING, FutureWarning)\n",
      "/opt/conda/lib/python3.7/site-packages/torch/nn/parallel/_functions.py:68: UserWarning: Was asked to gather along dimension 0, but all input tensors were scalars; will instead unsqueeze and return a vector.\n",
      "  warnings.warn('Was asked to gather along dimension 0, but all '\n"
     ]
    },
    {
     "data": {
      "text/html": [
       "\n",
       "    <div>\n",
       "      \n",
       "      <progress value='27680' max='27680' style='width:300px; height:20px; vertical-align: middle;'></progress>\n",
       "      [27680/27680 5:35:33, Epoch 5/5]\n",
       "    </div>\n",
       "    <table border=\"1\" class=\"dataframe\">\n",
       "  <thead>\n",
       " <tr style=\"text-align: left;\">\n",
       "      <th>Epoch</th>\n",
       "      <th>Training Loss</th>\n",
       "      <th>Validation Loss</th>\n",
       "      <th>Rouge2 Precision</th>\n",
       "      <th>Rouge2 Recall</th>\n",
       "      <th>Rouge2 Fmeasure</th>\n",
       "    </tr>\n",
       "  </thead>\n",
       "  <tbody>\n",
       "    <tr>\n",
       "      <td>1</td>\n",
       "      <td>2.697300</td>\n",
       "      <td>2.312825</td>\n",
       "      <td>0.214200</td>\n",
       "      <td>0.201600</td>\n",
       "      <td>0.205400</td>\n",
       "    </tr>\n",
       "    <tr>\n",
       "      <td>2</td>\n",
       "      <td>2.048800</td>\n",
       "      <td>1.951148</td>\n",
       "      <td>0.245100</td>\n",
       "      <td>0.229900</td>\n",
       "      <td>0.234800</td>\n",
       "    </tr>\n",
       "    <tr>\n",
       "      <td>3</td>\n",
       "      <td>1.665800</td>\n",
       "      <td>1.816726</td>\n",
       "      <td>0.250100</td>\n",
       "      <td>0.239500</td>\n",
       "      <td>0.242900</td>\n",
       "    </tr>\n",
       "    <tr>\n",
       "      <td>4</td>\n",
       "      <td>1.418200</td>\n",
       "      <td>1.744985</td>\n",
       "      <td>0.257400</td>\n",
       "      <td>0.253400</td>\n",
       "      <td>0.254100</td>\n",
       "    </tr>\n",
       "    <tr>\n",
       "      <td>5</td>\n",
       "      <td>1.241500</td>\n",
       "      <td>1.731204</td>\n",
       "      <td>0.270700</td>\n",
       "      <td>0.266100</td>\n",
       "      <td>0.267100</td>\n",
       "    </tr>\n",
       "  </tbody>\n",
       "</table><p>"
      ],
      "text/plain": [
       "<IPython.core.display.HTML object>"
      ]
     },
     "metadata": {},
     "output_type": "display_data"
    },
    {
     "name": "stderr",
     "output_type": "stream",
     "text": [
      "***** Running Evaluation *****\n",
      "  Num examples = 100\n",
      "  Batch size = 16\n",
      "Generate config GenerationConfig {\n",
      "  \"decoder_start_token_id\": 0,\n",
      "  \"early_stopping\": true,\n",
      "  \"eos_token_id\": 2,\n",
      "  \"length_penalty\": 2.0,\n",
      "  \"max_length\": 32,\n",
      "  \"no_repeat_ngram_size\": 3,\n",
      "  \"num_beams\": 5,\n",
      "  \"pad_token_id\": 1,\n",
      "  \"transformers_version\": \"4.26.1\"\n",
      "}\n",
      "\n",
      "/opt/conda/lib/python3.7/site-packages/transformers/generation/utils.py:1187: UserWarning: You have modified the pretrained model configuration to control generation. This is a deprecated strategy to control generation and will be removed soon, in a future version. Please use a generation configuration file (see https://huggingface.co/docs/transformers/main_classes/text_generation)\n",
      "  \"You have modified the pretrained model configuration to control generation. This is a\"\n",
      "Generate config GenerationConfig {\n",
      "  \"decoder_start_token_id\": 0,\n",
      "  \"early_stopping\": true,\n",
      "  \"eos_token_id\": 2,\n",
      "  \"length_penalty\": 2.0,\n",
      "  \"max_length\": 32,\n",
      "  \"no_repeat_ngram_size\": 3,\n",
      "  \"num_beams\": 5,\n",
      "  \"pad_token_id\": 1,\n",
      "  \"transformers_version\": \"4.26.1\"\n",
      "}\n",
      "\n",
      "Generate config GenerationConfig {\n",
      "  \"decoder_start_token_id\": 0,\n",
      "  \"early_stopping\": true,\n",
      "  \"eos_token_id\": 2,\n",
      "  \"length_penalty\": 2.0,\n",
      "  \"max_length\": 32,\n",
      "  \"no_repeat_ngram_size\": 3,\n",
      "  \"num_beams\": 5,\n",
      "  \"pad_token_id\": 1,\n",
      "  \"transformers_version\": \"4.26.1\"\n",
      "}\n",
      "\n",
      "Generate config GenerationConfig {\n",
      "  \"decoder_start_token_id\": 0,\n",
      "  \"early_stopping\": true,\n",
      "  \"eos_token_id\": 2,\n",
      "  \"length_penalty\": 2.0,\n",
      "  \"max_length\": 32,\n",
      "  \"no_repeat_ngram_size\": 3,\n",
      "  \"num_beams\": 5,\n",
      "  \"pad_token_id\": 1,\n",
      "  \"transformers_version\": \"4.26.1\"\n",
      "}\n",
      "\n",
      "Generate config GenerationConfig {\n",
      "  \"decoder_start_token_id\": 0,\n",
      "  \"early_stopping\": true,\n",
      "  \"eos_token_id\": 2,\n",
      "  \"length_penalty\": 2.0,\n",
      "  \"max_length\": 32,\n",
      "  \"no_repeat_ngram_size\": 3,\n",
      "  \"num_beams\": 5,\n",
      "  \"pad_token_id\": 1,\n",
      "  \"transformers_version\": \"4.26.1\"\n",
      "}\n",
      "\n",
      "Generate config GenerationConfig {\n",
      "  \"decoder_start_token_id\": 0,\n",
      "  \"early_stopping\": true,\n",
      "  \"eos_token_id\": 2,\n",
      "  \"length_penalty\": 2.0,\n",
      "  \"max_length\": 32,\n",
      "  \"no_repeat_ngram_size\": 3,\n",
      "  \"num_beams\": 5,\n",
      "  \"pad_token_id\": 1,\n",
      "  \"transformers_version\": \"4.26.1\"\n",
      "}\n",
      "\n",
      "Generate config GenerationConfig {\n",
      "  \"decoder_start_token_id\": 0,\n",
      "  \"early_stopping\": true,\n",
      "  \"eos_token_id\": 2,\n",
      "  \"length_penalty\": 2.0,\n",
      "  \"max_length\": 32,\n",
      "  \"no_repeat_ngram_size\": 3,\n",
      "  \"num_beams\": 5,\n",
      "  \"pad_token_id\": 1,\n",
      "  \"transformers_version\": \"4.26.1\"\n",
      "}\n",
      "\n",
      "Saving model checkpoint to RobertaBase6LSeq2Seq/checkpoint-5536\n",
      "Configuration saved in RobertaBase6LSeq2Seq/checkpoint-5536/config.json\n",
      "Configuration saved in RobertaBase6LSeq2Seq/checkpoint-5536/generation_config.json\n",
      "Model weights saved in RobertaBase6LSeq2Seq/checkpoint-5536/pytorch_model.bin\n",
      "tokenizer config file saved in RobertaBase6LSeq2Seq/checkpoint-5536/tokenizer_config.json\n",
      "Special tokens file saved in RobertaBase6LSeq2Seq/checkpoint-5536/special_tokens_map.json\n",
      "/opt/conda/lib/python3.7/site-packages/transformers/models/encoder_decoder/modeling_encoder_decoder.py:634: FutureWarning: Version v4.12.0 introduces a better way to train encoder-decoder models by computing the loss inside the encoder-decoder framework rather than in the decoder itself. You may observe training discrepancies if fine-tuning a model trained with versions anterior to 4.12.0. The decoder_input_ids are now created based on the labels, no need to pass them yourself anymore.\n",
      "  warnings.warn(DEPRECATION_WARNING, FutureWarning)\n",
      "/opt/conda/lib/python3.7/site-packages/torch/nn/parallel/_functions.py:68: UserWarning: Was asked to gather along dimension 0, but all input tensors were scalars; will instead unsqueeze and return a vector.\n",
      "  warnings.warn('Was asked to gather along dimension 0, but all '\n",
      "***** Running Evaluation *****\n",
      "  Num examples = 100\n",
      "  Batch size = 16\n",
      "Generate config GenerationConfig {\n",
      "  \"decoder_start_token_id\": 0,\n",
      "  \"early_stopping\": true,\n",
      "  \"eos_token_id\": 2,\n",
      "  \"length_penalty\": 2.0,\n",
      "  \"max_length\": 32,\n",
      "  \"no_repeat_ngram_size\": 3,\n",
      "  \"num_beams\": 5,\n",
      "  \"pad_token_id\": 1,\n",
      "  \"transformers_version\": \"4.26.1\"\n",
      "}\n",
      "\n",
      "Generate config GenerationConfig {\n",
      "  \"decoder_start_token_id\": 0,\n",
      "  \"early_stopping\": true,\n",
      "  \"eos_token_id\": 2,\n",
      "  \"length_penalty\": 2.0,\n",
      "  \"max_length\": 32,\n",
      "  \"no_repeat_ngram_size\": 3,\n",
      "  \"num_beams\": 5,\n",
      "  \"pad_token_id\": 1,\n",
      "  \"transformers_version\": \"4.26.1\"\n",
      "}\n",
      "\n",
      "Generate config GenerationConfig {\n",
      "  \"decoder_start_token_id\": 0,\n",
      "  \"early_stopping\": true,\n",
      "  \"eos_token_id\": 2,\n",
      "  \"length_penalty\": 2.0,\n",
      "  \"max_length\": 32,\n",
      "  \"no_repeat_ngram_size\": 3,\n",
      "  \"num_beams\": 5,\n",
      "  \"pad_token_id\": 1,\n",
      "  \"transformers_version\": \"4.26.1\"\n",
      "}\n",
      "\n",
      "Generate config GenerationConfig {\n",
      "  \"decoder_start_token_id\": 0,\n",
      "  \"early_stopping\": true,\n",
      "  \"eos_token_id\": 2,\n",
      "  \"length_penalty\": 2.0,\n",
      "  \"max_length\": 32,\n",
      "  \"no_repeat_ngram_size\": 3,\n",
      "  \"num_beams\": 5,\n",
      "  \"pad_token_id\": 1,\n",
      "  \"transformers_version\": \"4.26.1\"\n",
      "}\n",
      "\n",
      "Generate config GenerationConfig {\n",
      "  \"decoder_start_token_id\": 0,\n",
      "  \"early_stopping\": true,\n",
      "  \"eos_token_id\": 2,\n",
      "  \"length_penalty\": 2.0,\n",
      "  \"max_length\": 32,\n",
      "  \"no_repeat_ngram_size\": 3,\n",
      "  \"num_beams\": 5,\n",
      "  \"pad_token_id\": 1,\n",
      "  \"transformers_version\": \"4.26.1\"\n",
      "}\n",
      "\n",
      "Generate config GenerationConfig {\n",
      "  \"decoder_start_token_id\": 0,\n",
      "  \"early_stopping\": true,\n",
      "  \"eos_token_id\": 2,\n",
      "  \"length_penalty\": 2.0,\n",
      "  \"max_length\": 32,\n",
      "  \"no_repeat_ngram_size\": 3,\n",
      "  \"num_beams\": 5,\n",
      "  \"pad_token_id\": 1,\n",
      "  \"transformers_version\": \"4.26.1\"\n",
      "}\n",
      "\n",
      "Generate config GenerationConfig {\n",
      "  \"decoder_start_token_id\": 0,\n",
      "  \"early_stopping\": true,\n",
      "  \"eos_token_id\": 2,\n",
      "  \"length_penalty\": 2.0,\n",
      "  \"max_length\": 32,\n",
      "  \"no_repeat_ngram_size\": 3,\n",
      "  \"num_beams\": 5,\n",
      "  \"pad_token_id\": 1,\n",
      "  \"transformers_version\": \"4.26.1\"\n",
      "}\n",
      "\n",
      "Saving model checkpoint to RobertaBase6LSeq2Seq/checkpoint-11072\n",
      "Configuration saved in RobertaBase6LSeq2Seq/checkpoint-11072/config.json\n",
      "Configuration saved in RobertaBase6LSeq2Seq/checkpoint-11072/generation_config.json\n",
      "Model weights saved in RobertaBase6LSeq2Seq/checkpoint-11072/pytorch_model.bin\n",
      "tokenizer config file saved in RobertaBase6LSeq2Seq/checkpoint-11072/tokenizer_config.json\n",
      "Special tokens file saved in RobertaBase6LSeq2Seq/checkpoint-11072/special_tokens_map.json\n",
      "/opt/conda/lib/python3.7/site-packages/transformers/models/encoder_decoder/modeling_encoder_decoder.py:634: FutureWarning: Version v4.12.0 introduces a better way to train encoder-decoder models by computing the loss inside the encoder-decoder framework rather than in the decoder itself. You may observe training discrepancies if fine-tuning a model trained with versions anterior to 4.12.0. The decoder_input_ids are now created based on the labels, no need to pass them yourself anymore.\n",
      "  warnings.warn(DEPRECATION_WARNING, FutureWarning)\n",
      "/opt/conda/lib/python3.7/site-packages/torch/nn/parallel/_functions.py:68: UserWarning: Was asked to gather along dimension 0, but all input tensors were scalars; will instead unsqueeze and return a vector.\n",
      "  warnings.warn('Was asked to gather along dimension 0, but all '\n",
      "***** Running Evaluation *****\n",
      "  Num examples = 100\n",
      "  Batch size = 16\n",
      "Generate config GenerationConfig {\n",
      "  \"decoder_start_token_id\": 0,\n",
      "  \"early_stopping\": true,\n",
      "  \"eos_token_id\": 2,\n",
      "  \"length_penalty\": 2.0,\n",
      "  \"max_length\": 32,\n",
      "  \"no_repeat_ngram_size\": 3,\n",
      "  \"num_beams\": 5,\n",
      "  \"pad_token_id\": 1,\n",
      "  \"transformers_version\": \"4.26.1\"\n",
      "}\n",
      "\n",
      "Generate config GenerationConfig {\n",
      "  \"decoder_start_token_id\": 0,\n",
      "  \"early_stopping\": true,\n",
      "  \"eos_token_id\": 2,\n",
      "  \"length_penalty\": 2.0,\n",
      "  \"max_length\": 32,\n",
      "  \"no_repeat_ngram_size\": 3,\n",
      "  \"num_beams\": 5,\n",
      "  \"pad_token_id\": 1,\n",
      "  \"transformers_version\": \"4.26.1\"\n",
      "}\n",
      "\n",
      "Generate config GenerationConfig {\n",
      "  \"decoder_start_token_id\": 0,\n",
      "  \"early_stopping\": true,\n",
      "  \"eos_token_id\": 2,\n",
      "  \"length_penalty\": 2.0,\n",
      "  \"max_length\": 32,\n",
      "  \"no_repeat_ngram_size\": 3,\n",
      "  \"num_beams\": 5,\n",
      "  \"pad_token_id\": 1,\n",
      "  \"transformers_version\": \"4.26.1\"\n",
      "}\n",
      "\n",
      "Generate config GenerationConfig {\n",
      "  \"decoder_start_token_id\": 0,\n",
      "  \"early_stopping\": true,\n",
      "  \"eos_token_id\": 2,\n",
      "  \"length_penalty\": 2.0,\n",
      "  \"max_length\": 32,\n",
      "  \"no_repeat_ngram_size\": 3,\n",
      "  \"num_beams\": 5,\n",
      "  \"pad_token_id\": 1,\n",
      "  \"transformers_version\": \"4.26.1\"\n",
      "}\n",
      "\n",
      "Generate config GenerationConfig {\n",
      "  \"decoder_start_token_id\": 0,\n",
      "  \"early_stopping\": true,\n",
      "  \"eos_token_id\": 2,\n",
      "  \"length_penalty\": 2.0,\n",
      "  \"max_length\": 32,\n",
      "  \"no_repeat_ngram_size\": 3,\n",
      "  \"num_beams\": 5,\n",
      "  \"pad_token_id\": 1,\n",
      "  \"transformers_version\": \"4.26.1\"\n",
      "}\n",
      "\n",
      "Generate config GenerationConfig {\n",
      "  \"decoder_start_token_id\": 0,\n",
      "  \"early_stopping\": true,\n",
      "  \"eos_token_id\": 2,\n",
      "  \"length_penalty\": 2.0,\n",
      "  \"max_length\": 32,\n",
      "  \"no_repeat_ngram_size\": 3,\n",
      "  \"num_beams\": 5,\n",
      "  \"pad_token_id\": 1,\n",
      "  \"transformers_version\": \"4.26.1\"\n",
      "}\n",
      "\n",
      "Generate config GenerationConfig {\n",
      "  \"decoder_start_token_id\": 0,\n",
      "  \"early_stopping\": true,\n",
      "  \"eos_token_id\": 2,\n",
      "  \"length_penalty\": 2.0,\n",
      "  \"max_length\": 32,\n",
      "  \"no_repeat_ngram_size\": 3,\n",
      "  \"num_beams\": 5,\n",
      "  \"pad_token_id\": 1,\n",
      "  \"transformers_version\": \"4.26.1\"\n",
      "}\n",
      "\n",
      "Saving model checkpoint to RobertaBase6LSeq2Seq/checkpoint-16608\n",
      "Configuration saved in RobertaBase6LSeq2Seq/checkpoint-16608/config.json\n",
      "Configuration saved in RobertaBase6LSeq2Seq/checkpoint-16608/generation_config.json\n",
      "Model weights saved in RobertaBase6LSeq2Seq/checkpoint-16608/pytorch_model.bin\n",
      "tokenizer config file saved in RobertaBase6LSeq2Seq/checkpoint-16608/tokenizer_config.json\n",
      "Special tokens file saved in RobertaBase6LSeq2Seq/checkpoint-16608/special_tokens_map.json\n",
      "Deleting older checkpoint [RobertaBase6LSeq2Seq/checkpoint-5536] due to args.save_total_limit\n",
      "/opt/conda/lib/python3.7/site-packages/transformers/models/encoder_decoder/modeling_encoder_decoder.py:634: FutureWarning: Version v4.12.0 introduces a better way to train encoder-decoder models by computing the loss inside the encoder-decoder framework rather than in the decoder itself. You may observe training discrepancies if fine-tuning a model trained with versions anterior to 4.12.0. The decoder_input_ids are now created based on the labels, no need to pass them yourself anymore.\n",
      "  warnings.warn(DEPRECATION_WARNING, FutureWarning)\n",
      "/opt/conda/lib/python3.7/site-packages/torch/nn/parallel/_functions.py:68: UserWarning: Was asked to gather along dimension 0, but all input tensors were scalars; will instead unsqueeze and return a vector.\n",
      "  warnings.warn('Was asked to gather along dimension 0, but all '\n",
      "***** Running Evaluation *****\n",
      "  Num examples = 100\n",
      "  Batch size = 16\n",
      "Generate config GenerationConfig {\n",
      "  \"decoder_start_token_id\": 0,\n",
      "  \"early_stopping\": true,\n",
      "  \"eos_token_id\": 2,\n",
      "  \"length_penalty\": 2.0,\n",
      "  \"max_length\": 32,\n",
      "  \"no_repeat_ngram_size\": 3,\n",
      "  \"num_beams\": 5,\n",
      "  \"pad_token_id\": 1,\n",
      "  \"transformers_version\": \"4.26.1\"\n",
      "}\n",
      "\n",
      "Generate config GenerationConfig {\n",
      "  \"decoder_start_token_id\": 0,\n",
      "  \"early_stopping\": true,\n",
      "  \"eos_token_id\": 2,\n",
      "  \"length_penalty\": 2.0,\n",
      "  \"max_length\": 32,\n",
      "  \"no_repeat_ngram_size\": 3,\n",
      "  \"num_beams\": 5,\n",
      "  \"pad_token_id\": 1,\n",
      "  \"transformers_version\": \"4.26.1\"\n",
      "}\n",
      "\n",
      "Generate config GenerationConfig {\n",
      "  \"decoder_start_token_id\": 0,\n",
      "  \"early_stopping\": true,\n",
      "  \"eos_token_id\": 2,\n",
      "  \"length_penalty\": 2.0,\n",
      "  \"max_length\": 32,\n",
      "  \"no_repeat_ngram_size\": 3,\n",
      "  \"num_beams\": 5,\n",
      "  \"pad_token_id\": 1,\n",
      "  \"transformers_version\": \"4.26.1\"\n",
      "}\n",
      "\n",
      "Generate config GenerationConfig {\n",
      "  \"decoder_start_token_id\": 0,\n",
      "  \"early_stopping\": true,\n",
      "  \"eos_token_id\": 2,\n",
      "  \"length_penalty\": 2.0,\n",
      "  \"max_length\": 32,\n",
      "  \"no_repeat_ngram_size\": 3,\n",
      "  \"num_beams\": 5,\n",
      "  \"pad_token_id\": 1,\n",
      "  \"transformers_version\": \"4.26.1\"\n",
      "}\n",
      "\n",
      "Generate config GenerationConfig {\n",
      "  \"decoder_start_token_id\": 0,\n",
      "  \"early_stopping\": true,\n",
      "  \"eos_token_id\": 2,\n",
      "  \"length_penalty\": 2.0,\n",
      "  \"max_length\": 32,\n",
      "  \"no_repeat_ngram_size\": 3,\n",
      "  \"num_beams\": 5,\n",
      "  \"pad_token_id\": 1,\n",
      "  \"transformers_version\": \"4.26.1\"\n",
      "}\n",
      "\n",
      "Generate config GenerationConfig {\n",
      "  \"decoder_start_token_id\": 0,\n",
      "  \"early_stopping\": true,\n",
      "  \"eos_token_id\": 2,\n",
      "  \"length_penalty\": 2.0,\n",
      "  \"max_length\": 32,\n",
      "  \"no_repeat_ngram_size\": 3,\n",
      "  \"num_beams\": 5,\n",
      "  \"pad_token_id\": 1,\n",
      "  \"transformers_version\": \"4.26.1\"\n",
      "}\n",
      "\n",
      "Generate config GenerationConfig {\n",
      "  \"decoder_start_token_id\": 0,\n",
      "  \"early_stopping\": true,\n",
      "  \"eos_token_id\": 2,\n",
      "  \"length_penalty\": 2.0,\n",
      "  \"max_length\": 32,\n",
      "  \"no_repeat_ngram_size\": 3,\n",
      "  \"num_beams\": 5,\n",
      "  \"pad_token_id\": 1,\n",
      "  \"transformers_version\": \"4.26.1\"\n",
      "}\n",
      "\n",
      "Saving model checkpoint to RobertaBase6LSeq2Seq/checkpoint-22144\n",
      "Configuration saved in RobertaBase6LSeq2Seq/checkpoint-22144/config.json\n",
      "Configuration saved in RobertaBase6LSeq2Seq/checkpoint-22144/generation_config.json\n",
      "Model weights saved in RobertaBase6LSeq2Seq/checkpoint-22144/pytorch_model.bin\n",
      "tokenizer config file saved in RobertaBase6LSeq2Seq/checkpoint-22144/tokenizer_config.json\n",
      "Special tokens file saved in RobertaBase6LSeq2Seq/checkpoint-22144/special_tokens_map.json\n",
      "Deleting older checkpoint [RobertaBase6LSeq2Seq/checkpoint-11072] due to args.save_total_limit\n",
      "/opt/conda/lib/python3.7/site-packages/transformers/models/encoder_decoder/modeling_encoder_decoder.py:634: FutureWarning: Version v4.12.0 introduces a better way to train encoder-decoder models by computing the loss inside the encoder-decoder framework rather than in the decoder itself. You may observe training discrepancies if fine-tuning a model trained with versions anterior to 4.12.0. The decoder_input_ids are now created based on the labels, no need to pass them yourself anymore.\n",
      "  warnings.warn(DEPRECATION_WARNING, FutureWarning)\n",
      "/opt/conda/lib/python3.7/site-packages/torch/nn/parallel/_functions.py:68: UserWarning: Was asked to gather along dimension 0, but all input tensors were scalars; will instead unsqueeze and return a vector.\n",
      "  warnings.warn('Was asked to gather along dimension 0, but all '\n",
      "***** Running Evaluation *****\n",
      "  Num examples = 100\n",
      "  Batch size = 16\n",
      "Generate config GenerationConfig {\n",
      "  \"decoder_start_token_id\": 0,\n",
      "  \"early_stopping\": true,\n",
      "  \"eos_token_id\": 2,\n",
      "  \"length_penalty\": 2.0,\n",
      "  \"max_length\": 32,\n",
      "  \"no_repeat_ngram_size\": 3,\n",
      "  \"num_beams\": 5,\n",
      "  \"pad_token_id\": 1,\n",
      "  \"transformers_version\": \"4.26.1\"\n",
      "}\n",
      "\n",
      "Generate config GenerationConfig {\n",
      "  \"decoder_start_token_id\": 0,\n",
      "  \"early_stopping\": true,\n",
      "  \"eos_token_id\": 2,\n",
      "  \"length_penalty\": 2.0,\n",
      "  \"max_length\": 32,\n",
      "  \"no_repeat_ngram_size\": 3,\n",
      "  \"num_beams\": 5,\n",
      "  \"pad_token_id\": 1,\n",
      "  \"transformers_version\": \"4.26.1\"\n",
      "}\n",
      "\n",
      "Generate config GenerationConfig {\n",
      "  \"decoder_start_token_id\": 0,\n",
      "  \"early_stopping\": true,\n",
      "  \"eos_token_id\": 2,\n",
      "  \"length_penalty\": 2.0,\n",
      "  \"max_length\": 32,\n",
      "  \"no_repeat_ngram_size\": 3,\n",
      "  \"num_beams\": 5,\n",
      "  \"pad_token_id\": 1,\n",
      "  \"transformers_version\": \"4.26.1\"\n",
      "}\n",
      "\n",
      "Generate config GenerationConfig {\n",
      "  \"decoder_start_token_id\": 0,\n",
      "  \"early_stopping\": true,\n",
      "  \"eos_token_id\": 2,\n",
      "  \"length_penalty\": 2.0,\n",
      "  \"max_length\": 32,\n",
      "  \"no_repeat_ngram_size\": 3,\n",
      "  \"num_beams\": 5,\n",
      "  \"pad_token_id\": 1,\n",
      "  \"transformers_version\": \"4.26.1\"\n",
      "}\n",
      "\n",
      "Generate config GenerationConfig {\n",
      "  \"decoder_start_token_id\": 0,\n",
      "  \"early_stopping\": true,\n",
      "  \"eos_token_id\": 2,\n",
      "  \"length_penalty\": 2.0,\n",
      "  \"max_length\": 32,\n",
      "  \"no_repeat_ngram_size\": 3,\n",
      "  \"num_beams\": 5,\n",
      "  \"pad_token_id\": 1,\n",
      "  \"transformers_version\": \"4.26.1\"\n",
      "}\n",
      "\n",
      "Generate config GenerationConfig {\n",
      "  \"decoder_start_token_id\": 0,\n",
      "  \"early_stopping\": true,\n",
      "  \"eos_token_id\": 2,\n",
      "  \"length_penalty\": 2.0,\n",
      "  \"max_length\": 32,\n",
      "  \"no_repeat_ngram_size\": 3,\n",
      "  \"num_beams\": 5,\n",
      "  \"pad_token_id\": 1,\n",
      "  \"transformers_version\": \"4.26.1\"\n",
      "}\n",
      "\n",
      "Generate config GenerationConfig {\n",
      "  \"decoder_start_token_id\": 0,\n",
      "  \"early_stopping\": true,\n",
      "  \"eos_token_id\": 2,\n",
      "  \"length_penalty\": 2.0,\n",
      "  \"max_length\": 32,\n",
      "  \"no_repeat_ngram_size\": 3,\n",
      "  \"num_beams\": 5,\n",
      "  \"pad_token_id\": 1,\n",
      "  \"transformers_version\": \"4.26.1\"\n",
      "}\n",
      "\n",
      "Saving model checkpoint to RobertaBase6LSeq2Seq/checkpoint-27680\n",
      "Configuration saved in RobertaBase6LSeq2Seq/checkpoint-27680/config.json\n",
      "Configuration saved in RobertaBase6LSeq2Seq/checkpoint-27680/generation_config.json\n",
      "Model weights saved in RobertaBase6LSeq2Seq/checkpoint-27680/pytorch_model.bin\n",
      "tokenizer config file saved in RobertaBase6LSeq2Seq/checkpoint-27680/tokenizer_config.json\n",
      "Special tokens file saved in RobertaBase6LSeq2Seq/checkpoint-27680/special_tokens_map.json\n",
      "Deleting older checkpoint [RobertaBase6LSeq2Seq/checkpoint-16608] due to args.save_total_limit\n",
      "\n",
      "\n",
      "Training completed. Do not forget to share your model on huggingface.co/models =)\n",
      "\n",
      "\n",
      "Loading best model from RobertaBase6LSeq2Seq/checkpoint-27680 (score: 1.7312043905258179).\n"
     ]
    },
    {
     "data": {
      "text/plain": [
       "TrainOutput(global_step=27680, training_loss=2.164596729058062, metrics={'train_runtime': 20139.1608, 'train_samples_per_second': 21.987, 'train_steps_per_second': 1.374, 'total_flos': 1.366744019427072e+17, 'train_loss': 2.164596729058062, 'epoch': 5.0})"
      ]
     },
     "execution_count": 18,
     "metadata": {},
     "output_type": "execute_result"
    }
   ],
   "source": [
    "trainer.train()"
   ]
  },
  {
   "cell_type": "code",
   "execution_count": 19,
   "id": "188918b4",
   "metadata": {
    "execution": {
     "iopub.execute_input": "2023-05-13T10:18:56.643656Z",
     "iopub.status.busy": "2023-05-13T10:18:56.643173Z",
     "iopub.status.idle": "2023-05-13T10:18:58.714376Z",
     "shell.execute_reply": "2023-05-13T10:18:58.712998Z"
    },
    "papermill": {
     "duration": 2.126099,
     "end_time": "2023-05-13T10:18:58.717053",
     "exception": false,
     "start_time": "2023-05-13T10:18:56.590954",
     "status": "completed"
    },
    "tags": []
   },
   "outputs": [
    {
     "name": "stderr",
     "output_type": "stream",
     "text": [
      "Saving model checkpoint to RobertaBaseSeq2Seq\n",
      "Configuration saved in RobertaBaseSeq2Seq/config.json\n",
      "Configuration saved in RobertaBaseSeq2Seq/generation_config.json\n",
      "Model weights saved in RobertaBaseSeq2Seq/pytorch_model.bin\n",
      "tokenizer config file saved in RobertaBaseSeq2Seq/tokenizer_config.json\n",
      "Special tokens file saved in RobertaBaseSeq2Seq/special_tokens_map.json\n"
     ]
    }
   ],
   "source": [
    "trainer.save_model('RobertaBaseSeq2Seq')"
   ]
  },
  {
   "cell_type": "code",
   "execution_count": 20,
   "id": "403fb815",
   "metadata": {
    "execution": {
     "iopub.execute_input": "2023-05-13T10:19:04.915032Z",
     "iopub.status.busy": "2023-05-13T10:19:04.914507Z",
     "iopub.status.idle": "2023-05-13T10:19:04.919425Z",
     "shell.execute_reply": "2023-05-13T10:19:04.918319Z"
    },
    "papermill": {
     "duration": 0.076663,
     "end_time": "2023-05-13T10:19:04.921729",
     "exception": false,
     "start_time": "2023-05-13T10:19:04.845066",
     "status": "completed"
    },
    "tags": []
   },
   "outputs": [],
   "source": [
    "# _model.encoder.save_pretrained(\"./encoder\")\n",
    "# _model.decoder.save_pretrained(\"./decoder\")\n",
    "\n",
    "# model = TFEncoderDecoderModel.from_encoder_decoder_pretrained(\n",
    "#     \"./encoder\", \"./decoder\", encoder_from_pt=True, decoder_from_pt=True\n",
    "# )\n",
    "# # This is only for copying some specific attributes of this particular model.\n",
    "# model.config = _model.config"
   ]
  },
  {
   "cell_type": "code",
   "execution_count": 21,
   "id": "63ce3b5c",
   "metadata": {
    "execution": {
     "iopub.execute_input": "2023-05-13T10:19:04.963308Z",
     "iopub.status.busy": "2023-05-13T10:19:04.962692Z",
     "iopub.status.idle": "2023-05-13T10:19:05.388498Z",
     "shell.execute_reply": "2023-05-13T10:19:05.386961Z"
    },
    "papermill": {
     "duration": 0.449565,
     "end_time": "2023-05-13T10:19:05.391020",
     "exception": false,
     "start_time": "2023-05-13T10:19:04.941455",
     "status": "completed"
    },
    "tags": []
   },
   "outputs": [
    {
     "name": "stderr",
     "output_type": "stream",
     "text": [
      "Generate config GenerationConfig {\n",
      "  \"decoder_start_token_id\": 0,\n",
      "  \"early_stopping\": true,\n",
      "  \"eos_token_id\": 2,\n",
      "  \"length_penalty\": 2.0,\n",
      "  \"max_length\": 32,\n",
      "  \"no_repeat_ngram_size\": 3,\n",
      "  \"num_beams\": 5,\n",
      "  \"pad_token_id\": 1,\n",
      "  \"transformers_version\": \"4.26.1\"\n",
      "}\n",
      "\n",
      "/opt/conda/lib/python3.7/site-packages/transformers/generation/utils.py:1278: UserWarning: Neither `max_length` nor `max_new_tokens` has been set, `max_length` will default to 32 (`generation_config.max_length`). Controlling `max_length` via the config is deprecated and `max_length` will be removed from the config in v5 of Transformers -- we recommend using `max_new_tokens` to control the maximum length of the generation.\n",
      "  UserWarning,\n"
     ]
    },
    {
     "name": "stdout",
     "output_type": "stream",
     "text": [
      "Genrated:<s><s>Michael Phelps, wife Nicole Phelps become parents for 2nd time</s>\n",
      "actual:23-time Olympic champion Phelps becomes father for 2nd time\n"
     ]
    }
   ],
   "source": [
    "text = val_df['text'].values[0]\n",
    "summary = val_df['headlines'].values[0]\n",
    "out = tokenizer(text,padding='max_length',max_length=512,return_tensors=\"pt\").to('cuda')\n",
    "generated_summary = tokenizer.decode(model.generate(**out)[0])\n",
    "print(f'Genrated:{generated_summary}')\n",
    "print(f'actual:{summary}')"
   ]
  },
  {
   "cell_type": "code",
   "execution_count": 22,
   "id": "003dc06a",
   "metadata": {
    "execution": {
     "iopub.execute_input": "2023-05-13T10:19:05.432762Z",
     "iopub.status.busy": "2023-05-13T10:19:05.432175Z",
     "iopub.status.idle": "2023-05-13T10:19:05.718398Z",
     "shell.execute_reply": "2023-05-13T10:19:05.717141Z"
    },
    "papermill": {
     "duration": 0.309947,
     "end_time": "2023-05-13T10:19:05.721025",
     "exception": false,
     "start_time": "2023-05-13T10:19:05.411078",
     "status": "completed"
    },
    "tags": []
   },
   "outputs": [
    {
     "name": "stderr",
     "output_type": "stream",
     "text": [
      "Generate config GenerationConfig {\n",
      "  \"decoder_start_token_id\": 0,\n",
      "  \"early_stopping\": true,\n",
      "  \"eos_token_id\": 2,\n",
      "  \"length_penalty\": 2.0,\n",
      "  \"max_length\": 32,\n",
      "  \"no_repeat_ngram_size\": 3,\n",
      "  \"num_beams\": 5,\n",
      "  \"pad_token_id\": 1,\n",
      "  \"transformers_version\": \"4.26.1\"\n",
      "}\n",
      "\n"
     ]
    },
    {
     "name": "stdout",
     "output_type": "stream",
     "text": [
      "Genrated:<s><s>I mean Justin Bieber was chewing gum: Rohit Roy</s>\n",
      "actual:Bieber was chewing gum, drinking water while singing: Rohit\n"
     ]
    }
   ],
   "source": [
    "text = val_df['text'].values[2]\n",
    "summary = val_df['headlines'].values[2]\n",
    "out = tokenizer(text,padding='max_length',max_length=512,return_tensors=\"pt\").to('cuda')\n",
    "generated_summary = tokenizer.decode(model.generate(**out)[0])\n",
    "print(f'Genrated:{generated_summary}')\n",
    "print(f'actual:{summary}')"
   ]
  },
  {
   "cell_type": "code",
   "execution_count": 23,
   "id": "b586ea0a",
   "metadata": {
    "execution": {
     "iopub.execute_input": "2023-05-13T10:19:05.762996Z",
     "iopub.status.busy": "2023-05-13T10:19:05.762666Z",
     "iopub.status.idle": "2023-05-13T10:19:06.164050Z",
     "shell.execute_reply": "2023-05-13T10:19:06.162687Z"
    },
    "papermill": {
     "duration": 0.42488,
     "end_time": "2023-05-13T10:19:06.166540",
     "exception": false,
     "start_time": "2023-05-13T10:19:05.741660",
     "status": "completed"
    },
    "tags": []
   },
   "outputs": [
    {
     "name": "stderr",
     "output_type": "stream",
     "text": [
      "Generate config GenerationConfig {\n",
      "  \"decoder_start_token_id\": 0,\n",
      "  \"early_stopping\": true,\n",
      "  \"eos_token_id\": 2,\n",
      "  \"length_penalty\": 2.0,\n",
      "  \"max_length\": 32,\n",
      "  \"no_repeat_ngram_size\": 3,\n",
      "  \"num_beams\": 5,\n",
      "  \"pad_token_id\": 1,\n",
      "  \"transformers_version\": \"4.26.1\"\n",
      "}\n",
      "\n"
     ]
    },
    {
     "name": "stdout",
     "output_type": "stream",
     "text": [
      "Genrated:<s><s>Tamil film makers delete 'objectionable' scenes after AIADMK protests</s>\n",
      "actual:Tamil film 'Sarkar' makers delete scenes after protest: Report\n"
     ]
    }
   ],
   "source": [
    "text = val_df['text'].values[3]\n",
    "summary = val_df['headlines'].values[3]\n",
    "out = tokenizer(text,padding='max_length',max_length=512,return_tensors=\"pt\").to('cuda')\n",
    "generated_summary = tokenizer.decode(model.generate(**out)[0])\n",
    "print(f'Genrated:{generated_summary}')\n",
    "print(f'actual:{summary}')"
   ]
  },
  {
   "cell_type": "code",
   "execution_count": 24,
   "id": "0bf03b9b",
   "metadata": {
    "execution": {
     "iopub.execute_input": "2023-05-13T10:19:06.208980Z",
     "iopub.status.busy": "2023-05-13T10:19:06.208645Z",
     "iopub.status.idle": "2023-05-13T10:19:06.535052Z",
     "shell.execute_reply": "2023-05-13T10:19:06.533711Z"
    },
    "papermill": {
     "duration": 0.35093,
     "end_time": "2023-05-13T10:19:06.537830",
     "exception": false,
     "start_time": "2023-05-13T10:19:06.186900",
     "status": "completed"
    },
    "tags": []
   },
   "outputs": [
    {
     "name": "stderr",
     "output_type": "stream",
     "text": [
      "Generate config GenerationConfig {\n",
      "  \"decoder_start_token_id\": 0,\n",
      "  \"early_stopping\": true,\n",
      "  \"eos_token_id\": 2,\n",
      "  \"length_penalty\": 2.0,\n",
      "  \"max_length\": 32,\n",
      "  \"no_repeat_ngram_size\": 3,\n",
      "  \"num_beams\": 5,\n",
      "  \"pad_token_id\": 1,\n",
      "  \"transformers_version\": \"4.26.1\"\n",
      "}\n",
      "\n"
     ]
    },
    {
     "name": "stdout",
     "output_type": "stream",
     "text": [
      "Genrated:<s><s>80 outlets in east India shut down due to weak food: Bakshi</s>\n",
      "actual:McDonald's outlets in east India shut due to supply crunch\n"
     ]
    }
   ],
   "source": [
    "text = val_df['text'].values[4]\n",
    "summary = val_df['headlines'].values[4]\n",
    "out = tokenizer(text,padding='max_length',max_length=512,return_tensors=\"pt\").to('cuda')\n",
    "generated_summary = tokenizer.decode(model.generate(**out)[0])\n",
    "print(f'Genrated:{generated_summary}')\n",
    "print(f'actual:{summary}')"
   ]
  },
  {
   "cell_type": "markdown",
   "id": "8c82bd1e",
   "metadata": {
    "papermill": {
     "duration": 0.020586,
     "end_time": "2023-05-13T10:19:06.580365",
     "exception": false,
     "start_time": "2023-05-13T10:19:06.559779",
     "status": "completed"
    },
    "tags": []
   },
   "source": []
  },
  {
   "cell_type": "code",
   "execution_count": 25,
   "id": "1302d34c",
   "metadata": {
    "execution": {
     "iopub.execute_input": "2023-05-13T10:19:06.623868Z",
     "iopub.status.busy": "2023-05-13T10:19:06.622957Z",
     "iopub.status.idle": "2023-05-13T10:19:06.953441Z",
     "shell.execute_reply": "2023-05-13T10:19:06.952105Z"
    },
    "papermill": {
     "duration": 0.354677,
     "end_time": "2023-05-13T10:19:06.956057",
     "exception": false,
     "start_time": "2023-05-13T10:19:06.601380",
     "status": "completed"
    },
    "tags": []
   },
   "outputs": [
    {
     "name": "stderr",
     "output_type": "stream",
     "text": [
      "Generate config GenerationConfig {\n",
      "  \"decoder_start_token_id\": 0,\n",
      "  \"early_stopping\": true,\n",
      "  \"eos_token_id\": 2,\n",
      "  \"length_penalty\": 2.0,\n",
      "  \"max_length\": 32,\n",
      "  \"no_repeat_ngram_size\": 3,\n",
      "  \"num_beams\": 5,\n",
      "  \"pad_token_id\": 1,\n",
      "  \"transformers_version\": \"4.26.1\"\n",
      "}\n",
      "\n"
     ]
    },
    {
     "name": "stdout",
     "output_type": "stream",
     "text": [
      "Genrated:<s><s>Delhi groom shoots at baraat, returns to Delhi wedding venue</s>\n",
      "actual:Groom shot at in Delhi, returns to wedding with bullet in shoulder\n"
     ]
    }
   ],
   "source": [
    "text = val_df['text'].values[5]\n",
    "summary = val_df['headlines'].values[5]\n",
    "out = tokenizer(text,padding='max_length',max_length=512,return_tensors=\"pt\").to('cuda')\n",
    "generated_summary = tokenizer.decode(model.generate(**out)[0])\n",
    "print(f'Genrated:{generated_summary}')\n",
    "print(f'actual:{summary}')"
   ]
  },
  {
   "cell_type": "code",
   "execution_count": 26,
   "id": "a0659940",
   "metadata": {
    "execution": {
     "iopub.execute_input": "2023-05-13T10:19:06.999543Z",
     "iopub.status.busy": "2023-05-13T10:19:06.998604Z",
     "iopub.status.idle": "2023-05-13T10:19:07.354816Z",
     "shell.execute_reply": "2023-05-13T10:19:07.353465Z"
    },
    "papermill": {
     "duration": 0.380436,
     "end_time": "2023-05-13T10:19:07.357337",
     "exception": false,
     "start_time": "2023-05-13T10:19:06.976901",
     "status": "completed"
    },
    "tags": []
   },
   "outputs": [
    {
     "name": "stderr",
     "output_type": "stream",
     "text": [
      "Generate config GenerationConfig {\n",
      "  \"decoder_start_token_id\": 0,\n",
      "  \"early_stopping\": true,\n",
      "  \"eos_token_id\": 2,\n",
      "  \"length_penalty\": 2.0,\n",
      "  \"max_length\": 32,\n",
      "  \"no_repeat_ngram_size\": 3,\n",
      "  \"num_beams\": 5,\n",
      "  \"pad_token_id\": 1,\n",
      "  \"transformers_version\": \"4.26.1\"\n",
      "}\n",
      "\n"
     ]
    },
    {
     "name": "stdout",
     "output_type": "stream",
     "text": [
      "Genrated:<s><s>66-year-old woman sneaks onto plane without ticket, arrested</s>\n",
      "actual:Woman sneaks past security, flies to London without ticket\n"
     ]
    }
   ],
   "source": [
    "text = val_df['text'].values[7]\n",
    "summary = val_df['headlines'].values[7]\n",
    "out = tokenizer(text,padding='max_length',max_length=512,return_tensors=\"pt\").to('cuda')\n",
    "generated_summary = tokenizer.decode(model.generate(**out)[0])\n",
    "print(f'Genrated:{generated_summary}')\n",
    "print(f'actual:{summary}')"
   ]
  },
  {
   "cell_type": "code",
   "execution_count": 27,
   "id": "cb29a631",
   "metadata": {
    "execution": {
     "iopub.execute_input": "2023-05-13T10:19:07.400445Z",
     "iopub.status.busy": "2023-05-13T10:19:07.400132Z",
     "iopub.status.idle": "2023-05-13T10:19:07.842249Z",
     "shell.execute_reply": "2023-05-13T10:19:07.840188Z"
    },
    "papermill": {
     "duration": 0.466341,
     "end_time": "2023-05-13T10:19:07.844730",
     "exception": false,
     "start_time": "2023-05-13T10:19:07.378389",
     "status": "completed"
    },
    "tags": []
   },
   "outputs": [
    {
     "name": "stderr",
     "output_type": "stream",
     "text": [
      "Generate config GenerationConfig {\n",
      "  \"decoder_start_token_id\": 0,\n",
      "  \"early_stopping\": true,\n",
      "  \"eos_token_id\": 2,\n",
      "  \"length_penalty\": 2.0,\n",
      "  \"max_length\": 32,\n",
      "  \"no_repeat_ngram_size\": 3,\n",
      "  \"num_beams\": 5,\n",
      "  \"pad_token_id\": 1,\n",
      "  \"transformers_version\": \"4.26.1\"\n",
      "}\n",
      "\n"
     ]
    },
    {
     "name": "stdout",
     "output_type": "stream",
     "text": [
      "Genrated:<s><s>BJP beats CPI(M) in Tripura to form first-ever Tripura govt</s>\n",
      "actual:BJP wins Tripura for 1st time, displaces CPI(M) after 25 yrs\n"
     ]
    }
   ],
   "source": [
    "text = val_df['text'].values[6]\n",
    "summary = val_df['headlines'].values[6]\n",
    "out = tokenizer(text,padding='max_length',max_length=512,return_tensors=\"pt\").to('cuda')\n",
    "generated_summary = tokenizer.decode(model.generate(**out)[0])\n",
    "print(f'Genrated:{generated_summary}')\n",
    "print(f'actual:{summary}')"
   ]
  },
  {
   "cell_type": "code",
   "execution_count": 28,
   "id": "7b289804",
   "metadata": {
    "execution": {
     "iopub.execute_input": "2023-05-13T10:19:07.889781Z",
     "iopub.status.busy": "2023-05-13T10:19:07.888765Z",
     "iopub.status.idle": "2023-05-13T10:19:08.221195Z",
     "shell.execute_reply": "2023-05-13T10:19:08.219924Z"
    },
    "papermill": {
     "duration": 0.35743,
     "end_time": "2023-05-13T10:19:08.223704",
     "exception": false,
     "start_time": "2023-05-13T10:19:07.866274",
     "status": "completed"
    },
    "tags": []
   },
   "outputs": [
    {
     "name": "stderr",
     "output_type": "stream",
     "text": [
      "Generate config GenerationConfig {\n",
      "  \"decoder_start_token_id\": 0,\n",
      "  \"early_stopping\": true,\n",
      "  \"eos_token_id\": 2,\n",
      "  \"length_penalty\": 2.0,\n",
      "  \"max_length\": 32,\n",
      "  \"no_repeat_ngram_size\": 3,\n",
      "  \"num_beams\": 5,\n",
      "  \"pad_token_id\": 1,\n",
      "  \"transformers_version\": \"4.26.1\"\n",
      "}\n",
      "\n"
     ]
    },
    {
     "name": "stdout",
     "output_type": "stream",
     "text": [
      "Genrated:<s><s>Religious women's honour held hostage for decades: Prez Kovind</s>\n",
      "actual:Muslim women's dignity held hostage for decades: Prez Kovind\n"
     ]
    }
   ],
   "source": [
    "text = val_df['text'].values[8]\n",
    "summary = val_df['headlines'].values[8]\n",
    "out = tokenizer(text,padding='max_length',max_length=512,return_tensors=\"pt\").to('cuda')\n",
    "generated_summary = tokenizer.decode(model.generate(**out)[0])\n",
    "print(f'Genrated:{generated_summary}')\n",
    "print(f'actual:{summary}')"
   ]
  },
  {
   "cell_type": "code",
   "execution_count": 29,
   "id": "02855a4f",
   "metadata": {
    "execution": {
     "iopub.execute_input": "2023-05-13T10:19:08.267941Z",
     "iopub.status.busy": "2023-05-13T10:19:08.267620Z",
     "iopub.status.idle": "2023-05-13T10:19:08.575154Z",
     "shell.execute_reply": "2023-05-13T10:19:08.573696Z"
    },
    "papermill": {
     "duration": 0.332304,
     "end_time": "2023-05-13T10:19:08.577689",
     "exception": false,
     "start_time": "2023-05-13T10:19:08.245385",
     "status": "completed"
    },
    "tags": []
   },
   "outputs": [
    {
     "name": "stderr",
     "output_type": "stream",
     "text": [
      "Generate config GenerationConfig {\n",
      "  \"decoder_start_token_id\": 0,\n",
      "  \"early_stopping\": true,\n",
      "  \"eos_token_id\": 2,\n",
      "  \"length_penalty\": 2.0,\n",
      "  \"max_length\": 32,\n",
      "  \"no_repeat_ngram_size\": 3,\n",
      "  \"num_beams\": 5,\n",
      "  \"pad_token_id\": 1,\n",
      "  \"transformers_version\": \"4.26.1\"\n",
      "}\n",
      "\n"
     ]
    },
    {
     "name": "stdout",
     "output_type": "stream",
     "text": [
      "Genrated:<s><s>Bengaluru Metro covers Hindi words on signboards</s>\n",
      "actual:Hindi words on signboards at B'luru Metro stations covered \n"
     ]
    }
   ],
   "source": [
    "text = val_df['text'].values[9]\n",
    "summary = val_df['headlines'].values[9]\n",
    "out = tokenizer(text,padding='max_length',max_length=512,return_tensors=\"pt\").to('cuda')\n",
    "generated_summary = tokenizer.decode(model.generate(**out)[0])\n",
    "print(f'Genrated:{generated_summary}')\n",
    "print(f'actual:{summary}')"
   ]
  },
  {
   "cell_type": "code",
   "execution_count": 30,
   "id": "a188b488",
   "metadata": {
    "execution": {
     "iopub.execute_input": "2023-05-13T10:19:08.622861Z",
     "iopub.status.busy": "2023-05-13T10:19:08.622549Z",
     "iopub.status.idle": "2023-05-13T10:19:08.979698Z",
     "shell.execute_reply": "2023-05-13T10:19:08.978641Z"
    },
    "papermill": {
     "duration": 0.382197,
     "end_time": "2023-05-13T10:19:08.982036",
     "exception": false,
     "start_time": "2023-05-13T10:19:08.599839",
     "status": "completed"
    },
    "tags": []
   },
   "outputs": [
    {
     "name": "stderr",
     "output_type": "stream",
     "text": [
      "Generate config GenerationConfig {\n",
      "  \"decoder_start_token_id\": 0,\n",
      "  \"early_stopping\": true,\n",
      "  \"eos_token_id\": 2,\n",
      "  \"length_penalty\": 2.0,\n",
      "  \"max_length\": 32,\n",
      "  \"no_repeat_ngram_size\": 3,\n",
      "  \"num_beams\": 5,\n",
      "  \"pad_token_id\": 1,\n",
      "  \"transformers_version\": \"4.26.1\"\n",
      "}\n",
      "\n"
     ]
    },
    {
     "name": "stdout",
     "output_type": "stream",
     "text": [
      "Genrated:<s><s>Not afraid of killing Gauri Lankesh's killers: Prakash Raj</s>\n",
      "actual:Not afraid of threats from Lankesh's killers: Prakash Raj\n"
     ]
    }
   ],
   "source": [
    "text = val_df['text'].values[10]\n",
    "summary = val_df['headlines'].values[10]\n",
    "out = tokenizer(text,padding='max_length',max_length=512,return_tensors=\"pt\").to('cuda')\n",
    "generated_summary = tokenizer.decode(model.generate(**out)[0])\n",
    "print(f'Genrated:{generated_summary}')\n",
    "print(f'actual:{summary}')"
   ]
  },
  {
   "cell_type": "code",
   "execution_count": null,
   "id": "a8684b6d",
   "metadata": {
    "papermill": {
     "duration": 0.02173,
     "end_time": "2023-05-13T10:19:09.025670",
     "exception": false,
     "start_time": "2023-05-13T10:19:09.003940",
     "status": "completed"
    },
    "tags": []
   },
   "outputs": [],
   "source": []
  }
 ],
 "metadata": {
  "kernelspec": {
   "display_name": "Python 3",
   "language": "python",
   "name": "python3"
  },
  "language_info": {
   "codemirror_mode": {
    "name": "ipython",
    "version": 3
   },
   "file_extension": ".py",
   "mimetype": "text/x-python",
   "name": "python",
   "nbconvert_exporter": "python",
   "pygments_lexer": "ipython3",
   "version": "3.7.12"
  },
  "papermill": {
   "default_parameters": {},
   "duration": 20232.172935,
   "end_time": "2023-05-13T10:19:12.157601",
   "environment_variables": {},
   "exception": null,
   "input_path": "__notebook__.ipynb",
   "output_path": "__notebook__.ipynb",
   "parameters": {},
   "start_time": "2023-05-13T04:41:59.984666",
   "version": "2.4.0"
  },
  "widgets": {
   "application/vnd.jupyter.widget-state+json": {
    "state": {
     "02f743da4ce646aa9aaf19e741cf4b29": {
      "model_module": "@jupyter-widgets/controls",
      "model_module_version": "1.5.0",
      "model_name": "FloatProgressModel",
      "state": {
       "_dom_classes": [],
       "_model_module": "@jupyter-widgets/controls",
       "_model_module_version": "1.5.0",
       "_model_name": "FloatProgressModel",
       "_view_count": null,
       "_view_module": "@jupyter-widgets/controls",
       "_view_module_version": "1.5.0",
       "_view_name": "ProgressView",
       "bar_style": "success",
       "description": "",
       "description_tooltip": null,
       "layout": "IPY_MODEL_c66bdfd78d2440138b29c810b1e21e09",
       "max": 898823.0,
       "min": 0.0,
       "orientation": "horizontal",
       "style": "IPY_MODEL_066813c3a68f40d7a078c2f4469aabfa",
       "value": 898823.0
      }
     },
     "061abdd605fd4021912e5622a587b9f0": {
      "model_module": "@jupyter-widgets/base",
      "model_module_version": "1.2.0",
      "model_name": "LayoutModel",
      "state": {
       "_model_module": "@jupyter-widgets/base",
       "_model_module_version": "1.2.0",
       "_model_name": "LayoutModel",
       "_view_count": null,
       "_view_module": "@jupyter-widgets/base",
       "_view_module_version": "1.2.0",
       "_view_name": "LayoutView",
       "align_content": null,
       "align_items": null,
       "align_self": null,
       "border": null,
       "bottom": null,
       "display": null,
       "flex": null,
       "flex_flow": null,
       "grid_area": null,
       "grid_auto_columns": null,
       "grid_auto_flow": null,
       "grid_auto_rows": null,
       "grid_column": null,
       "grid_gap": null,
       "grid_row": null,
       "grid_template_areas": null,
       "grid_template_columns": null,
       "grid_template_rows": null,
       "height": null,
       "justify_content": null,
       "justify_items": null,
       "left": null,
       "margin": null,
       "max_height": null,
       "max_width": null,
       "min_height": null,
       "min_width": null,
       "object_fit": null,
       "object_position": null,
       "order": null,
       "overflow": null,
       "overflow_x": null,
       "overflow_y": null,
       "padding": null,
       "right": null,
       "top": null,
       "visibility": null,
       "width": null
      }
     },
     "066813c3a68f40d7a078c2f4469aabfa": {
      "model_module": "@jupyter-widgets/controls",
      "model_module_version": "1.5.0",
      "model_name": "ProgressStyleModel",
      "state": {
       "_model_module": "@jupyter-widgets/controls",
       "_model_module_version": "1.5.0",
       "_model_name": "ProgressStyleModel",
       "_view_count": null,
       "_view_module": "@jupyter-widgets/base",
       "_view_module_version": "1.2.0",
       "_view_name": "StyleView",
       "bar_color": null,
       "description_width": ""
      }
     },
     "0cdaf899bbd84ff8b3e7ef5a8734e514": {
      "model_module": "@jupyter-widgets/base",
      "model_module_version": "1.2.0",
      "model_name": "LayoutModel",
      "state": {
       "_model_module": "@jupyter-widgets/base",
       "_model_module_version": "1.2.0",
       "_model_name": "LayoutModel",
       "_view_count": null,
       "_view_module": "@jupyter-widgets/base",
       "_view_module_version": "1.2.0",
       "_view_name": "LayoutView",
       "align_content": null,
       "align_items": null,
       "align_self": null,
       "border": null,
       "bottom": null,
       "display": null,
       "flex": null,
       "flex_flow": null,
       "grid_area": null,
       "grid_auto_columns": null,
       "grid_auto_flow": null,
       "grid_auto_rows": null,
       "grid_column": null,
       "grid_gap": null,
       "grid_row": null,
       "grid_template_areas": null,
       "grid_template_columns": null,
       "grid_template_rows": null,
       "height": null,
       "justify_content": null,
       "justify_items": null,
       "left": null,
       "margin": null,
       "max_height": null,
       "max_width": null,
       "min_height": null,
       "min_width": null,
       "object_fit": null,
       "object_position": null,
       "order": null,
       "overflow": null,
       "overflow_x": null,
       "overflow_y": null,
       "padding": null,
       "right": null,
       "top": null,
       "visibility": null,
       "width": null
      }
     },
     "0ef1c6a3b20841998fe21294c09ff2fe": {
      "model_module": "@jupyter-widgets/controls",
      "model_module_version": "1.5.0",
      "model_name": "ProgressStyleModel",
      "state": {
       "_model_module": "@jupyter-widgets/controls",
       "_model_module_version": "1.5.0",
       "_model_name": "ProgressStyleModel",
       "_view_count": null,
       "_view_module": "@jupyter-widgets/base",
       "_view_module_version": "1.2.0",
       "_view_name": "StyleView",
       "bar_color": null,
       "description_width": ""
      }
     },
     "0f12e7a05f8f42f6b2fcffe1553d87c1": {
      "model_module": "@jupyter-widgets/controls",
      "model_module_version": "1.5.0",
      "model_name": "FloatProgressModel",
      "state": {
       "_dom_classes": [],
       "_model_module": "@jupyter-widgets/controls",
       "_model_module_version": "1.5.0",
       "_model_name": "FloatProgressModel",
       "_view_count": null,
       "_view_module": "@jupyter-widgets/controls",
       "_view_module_version": "1.5.0",
       "_view_name": "ProgressView",
       "bar_style": "success",
       "description": "",
       "description_tooltip": null,
       "layout": "IPY_MODEL_db909d71fbaa4650b769ad3c1af0691c",
       "max": 2160.0,
       "min": 0.0,
       "orientation": "horizontal",
       "style": "IPY_MODEL_907b93fa4afa49688ec7325c3b8179ac",
       "value": 2160.0
      }
     },
     "102152eb2145420a8940800e078630c5": {
      "model_module": "@jupyter-widgets/controls",
      "model_module_version": "1.5.0",
      "model_name": "HBoxModel",
      "state": {
       "_dom_classes": [],
       "_model_module": "@jupyter-widgets/controls",
       "_model_module_version": "1.5.0",
       "_model_name": "HBoxModel",
       "_view_count": null,
       "_view_module": "@jupyter-widgets/controls",
       "_view_module_version": "1.5.0",
       "_view_name": "HBoxView",
       "box_style": "",
       "children": [
        "IPY_MODEL_de198845fb204d1f9f17cbc9819f2473",
        "IPY_MODEL_7ee66a3f06a243d99411fb49321d97fd",
        "IPY_MODEL_bf20377c53d0485d9c43231d03dd045b"
       ],
       "layout": "IPY_MODEL_331e718e40e248a58bcbcbec28f16746"
      }
     },
     "150c081d6b694a5f9ca3351747b20f8b": {
      "model_module": "@jupyter-widgets/controls",
      "model_module_version": "1.5.0",
      "model_name": "DescriptionStyleModel",
      "state": {
       "_model_module": "@jupyter-widgets/controls",
       "_model_module_version": "1.5.0",
       "_model_name": "DescriptionStyleModel",
       "_view_count": null,
       "_view_module": "@jupyter-widgets/base",
       "_view_module_version": "1.2.0",
       "_view_name": "StyleView",
       "description_width": ""
      }
     },
     "16ec0893a468461f8c001c130b79019f": {
      "model_module": "@jupyter-widgets/base",
      "model_module_version": "1.2.0",
      "model_name": "LayoutModel",
      "state": {
       "_model_module": "@jupyter-widgets/base",
       "_model_module_version": "1.2.0",
       "_model_name": "LayoutModel",
       "_view_count": null,
       "_view_module": "@jupyter-widgets/base",
       "_view_module_version": "1.2.0",
       "_view_name": "LayoutView",
       "align_content": null,
       "align_items": null,
       "align_self": null,
       "border": null,
       "bottom": null,
       "display": null,
       "flex": null,
       "flex_flow": null,
       "grid_area": null,
       "grid_auto_columns": null,
       "grid_auto_flow": null,
       "grid_auto_rows": null,
       "grid_column": null,
       "grid_gap": null,
       "grid_row": null,
       "grid_template_areas": null,
       "grid_template_columns": null,
       "grid_template_rows": null,
       "height": null,
       "justify_content": null,
       "justify_items": null,
       "left": null,
       "margin": null,
       "max_height": null,
       "max_width": null,
       "min_height": null,
       "min_width": null,
       "object_fit": null,
       "object_position": null,
       "order": null,
       "overflow": null,
       "overflow_x": null,
       "overflow_y": null,
       "padding": null,
       "right": null,
       "top": null,
       "visibility": null,
       "width": null
      }
     },
     "177344af13774d49aef23d69f45cca6f": {
      "model_module": "@jupyter-widgets/controls",
      "model_module_version": "1.5.0",
      "model_name": "DescriptionStyleModel",
      "state": {
       "_model_module": "@jupyter-widgets/controls",
       "_model_module_version": "1.5.0",
       "_model_name": "DescriptionStyleModel",
       "_view_count": null,
       "_view_module": "@jupyter-widgets/base",
       "_view_module_version": "1.2.0",
       "_view_name": "StyleView",
       "description_width": ""
      }
     },
     "28989e0e28a14ed6967f6aca0481c19b": {
      "model_module": "@jupyter-widgets/controls",
      "model_module_version": "1.5.0",
      "model_name": "HTMLModel",
      "state": {
       "_dom_classes": [],
       "_model_module": "@jupyter-widgets/controls",
       "_model_module_version": "1.5.0",
       "_model_name": "HTMLModel",
       "_view_count": null,
       "_view_module": "@jupyter-widgets/controls",
       "_view_module_version": "1.5.0",
       "_view_name": "HTMLView",
       "description": "",
       "description_tooltip": null,
       "layout": "IPY_MODEL_64df561823b248cb96b66e5c5905f967",
       "placeholder": "​",
       "style": "IPY_MODEL_2d38a52c79464c95ba1a90a9c879c578",
       "value": " 481/481 [00:00&lt;00:00, 19.4kB/s]"
      }
     },
     "2d38a52c79464c95ba1a90a9c879c578": {
      "model_module": "@jupyter-widgets/controls",
      "model_module_version": "1.5.0",
      "model_name": "DescriptionStyleModel",
      "state": {
       "_model_module": "@jupyter-widgets/controls",
       "_model_module_version": "1.5.0",
       "_model_name": "DescriptionStyleModel",
       "_view_count": null,
       "_view_module": "@jupyter-widgets/base",
       "_view_module_version": "1.2.0",
       "_view_name": "StyleView",
       "description_width": ""
      }
     },
     "2d68da87cf404c728bb4d5867726a8ab": {
      "model_module": "@jupyter-widgets/base",
      "model_module_version": "1.2.0",
      "model_name": "LayoutModel",
      "state": {
       "_model_module": "@jupyter-widgets/base",
       "_model_module_version": "1.2.0",
       "_model_name": "LayoutModel",
       "_view_count": null,
       "_view_module": "@jupyter-widgets/base",
       "_view_module_version": "1.2.0",
       "_view_name": "LayoutView",
       "align_content": null,
       "align_items": null,
       "align_self": null,
       "border": null,
       "bottom": null,
       "display": null,
       "flex": null,
       "flex_flow": null,
       "grid_area": null,
       "grid_auto_columns": null,
       "grid_auto_flow": null,
       "grid_auto_rows": null,
       "grid_column": null,
       "grid_gap": null,
       "grid_row": null,
       "grid_template_areas": null,
       "grid_template_columns": null,
       "grid_template_rows": null,
       "height": null,
       "justify_content": null,
       "justify_items": null,
       "left": null,
       "margin": null,
       "max_height": null,
       "max_width": null,
       "min_height": null,
       "min_width": null,
       "object_fit": null,
       "object_position": null,
       "order": null,
       "overflow": null,
       "overflow_x": null,
       "overflow_y": null,
       "padding": null,
       "right": null,
       "top": null,
       "visibility": null,
       "width": null
      }
     },
     "31af7a6db4f340188f6c97aadbad09bf": {
      "model_module": "@jupyter-widgets/base",
      "model_module_version": "1.2.0",
      "model_name": "LayoutModel",
      "state": {
       "_model_module": "@jupyter-widgets/base",
       "_model_module_version": "1.2.0",
       "_model_name": "LayoutModel",
       "_view_count": null,
       "_view_module": "@jupyter-widgets/base",
       "_view_module_version": "1.2.0",
       "_view_name": "LayoutView",
       "align_content": null,
       "align_items": null,
       "align_self": null,
       "border": null,
       "bottom": null,
       "display": null,
       "flex": null,
       "flex_flow": null,
       "grid_area": null,
       "grid_auto_columns": null,
       "grid_auto_flow": null,
       "grid_auto_rows": null,
       "grid_column": null,
       "grid_gap": null,
       "grid_row": null,
       "grid_template_areas": null,
       "grid_template_columns": null,
       "grid_template_rows": null,
       "height": null,
       "justify_content": null,
       "justify_items": null,
       "left": null,
       "margin": null,
       "max_height": null,
       "max_width": null,
       "min_height": null,
       "min_width": null,
       "object_fit": null,
       "object_position": null,
       "order": null,
       "overflow": null,
       "overflow_x": null,
       "overflow_y": null,
       "padding": null,
       "right": null,
       "top": null,
       "visibility": null,
       "width": null
      }
     },
     "331e718e40e248a58bcbcbec28f16746": {
      "model_module": "@jupyter-widgets/base",
      "model_module_version": "1.2.0",
      "model_name": "LayoutModel",
      "state": {
       "_model_module": "@jupyter-widgets/base",
       "_model_module_version": "1.2.0",
       "_model_name": "LayoutModel",
       "_view_count": null,
       "_view_module": "@jupyter-widgets/base",
       "_view_module_version": "1.2.0",
       "_view_name": "LayoutView",
       "align_content": null,
       "align_items": null,
       "align_self": null,
       "border": null,
       "bottom": null,
       "display": null,
       "flex": null,
       "flex_flow": null,
       "grid_area": null,
       "grid_auto_columns": null,
       "grid_auto_flow": null,
       "grid_auto_rows": null,
       "grid_column": null,
       "grid_gap": null,
       "grid_row": null,
       "grid_template_areas": null,
       "grid_template_columns": null,
       "grid_template_rows": null,
       "height": null,
       "justify_content": null,
       "justify_items": null,
       "left": null,
       "margin": null,
       "max_height": null,
       "max_width": null,
       "min_height": null,
       "min_width": null,
       "object_fit": null,
       "object_position": null,
       "order": null,
       "overflow": null,
       "overflow_x": null,
       "overflow_y": null,
       "padding": null,
       "right": null,
       "top": null,
       "visibility": null,
       "width": null
      }
     },
     "3699b44d88f848008a65a7ff1aef6257": {
      "model_module": "@jupyter-widgets/controls",
      "model_module_version": "1.5.0",
      "model_name": "HTMLModel",
      "state": {
       "_dom_classes": [],
       "_model_module": "@jupyter-widgets/controls",
       "_model_module_version": "1.5.0",
       "_model_name": "HTMLModel",
       "_view_count": null,
       "_view_module": "@jupyter-widgets/controls",
       "_view_module_version": "1.5.0",
       "_view_name": "HTMLView",
       "description": "",
       "description_tooltip": null,
       "layout": "IPY_MODEL_0cdaf899bbd84ff8b3e7ef5a8734e514",
       "placeholder": "​",
       "style": "IPY_MODEL_b2acd0683cb249128b3f1bde25fb077f",
       "value": "Downloading (…)/main/tokenizer.json: 100%"
      }
     },
     "3cc13f676c104437ad7aea414c826bf5": {
      "model_module": "@jupyter-widgets/controls",
      "model_module_version": "1.5.0",
      "model_name": "FloatProgressModel",
      "state": {
       "_dom_classes": [],
       "_model_module": "@jupyter-widgets/controls",
       "_model_module_version": "1.5.0",
       "_model_name": "FloatProgressModel",
       "_view_count": null,
       "_view_module": "@jupyter-widgets/controls",
       "_view_module_version": "1.5.0",
       "_view_name": "ProgressView",
       "bar_style": "success",
       "description": "",
       "description_tooltip": null,
       "layout": "IPY_MODEL_2d68da87cf404c728bb4d5867726a8ab",
       "max": 1355863.0,
       "min": 0.0,
       "orientation": "horizontal",
       "style": "IPY_MODEL_0ef1c6a3b20841998fe21294c09ff2fe",
       "value": 1355863.0
      }
     },
     "3e160b934e74432f91a331e0d7eb7e83": {
      "model_module": "@jupyter-widgets/controls",
      "model_module_version": "1.5.0",
      "model_name": "ProgressStyleModel",
      "state": {
       "_model_module": "@jupyter-widgets/controls",
       "_model_module_version": "1.5.0",
       "_model_name": "ProgressStyleModel",
       "_view_count": null,
       "_view_module": "@jupyter-widgets/base",
       "_view_module_version": "1.2.0",
       "_view_name": "StyleView",
       "bar_color": null,
       "description_width": ""
      }
     },
     "44bec651d2694c1fae2aca95b4b4e9a7": {
      "model_module": "@jupyter-widgets/controls",
      "model_module_version": "1.5.0",
      "model_name": "HBoxModel",
      "state": {
       "_dom_classes": [],
       "_model_module": "@jupyter-widgets/controls",
       "_model_module_version": "1.5.0",
       "_model_name": "HBoxModel",
       "_view_count": null,
       "_view_module": "@jupyter-widgets/controls",
       "_view_module_version": "1.5.0",
       "_view_name": "HBoxView",
       "box_style": "",
       "children": [
        "IPY_MODEL_3699b44d88f848008a65a7ff1aef6257",
        "IPY_MODEL_3cc13f676c104437ad7aea414c826bf5",
        "IPY_MODEL_91e2a1446e07431790024ac5138a0301"
       ],
       "layout": "IPY_MODEL_8deae22cb3414ae48cf975e2dc5b7cdc"
      }
     },
     "482ab655d27740b5b4a55fb542d814c3": {
      "model_module": "@jupyter-widgets/controls",
      "model_module_version": "1.5.0",
      "model_name": "DescriptionStyleModel",
      "state": {
       "_model_module": "@jupyter-widgets/controls",
       "_model_module_version": "1.5.0",
       "_model_name": "DescriptionStyleModel",
       "_view_count": null,
       "_view_module": "@jupyter-widgets/base",
       "_view_module_version": "1.2.0",
       "_view_name": "StyleView",
       "description_width": ""
      }
     },
     "58496b9bb30a42959cdecd6f8482a63c": {
      "model_module": "@jupyter-widgets/base",
      "model_module_version": "1.2.0",
      "model_name": "LayoutModel",
      "state": {
       "_model_module": "@jupyter-widgets/base",
       "_model_module_version": "1.2.0",
       "_model_name": "LayoutModel",
       "_view_count": null,
       "_view_module": "@jupyter-widgets/base",
       "_view_module_version": "1.2.0",
       "_view_name": "LayoutView",
       "align_content": null,
       "align_items": null,
       "align_self": null,
       "border": null,
       "bottom": null,
       "display": null,
       "flex": null,
       "flex_flow": null,
       "grid_area": null,
       "grid_auto_columns": null,
       "grid_auto_flow": null,
       "grid_auto_rows": null,
       "grid_column": null,
       "grid_gap": null,
       "grid_row": null,
       "grid_template_areas": null,
       "grid_template_columns": null,
       "grid_template_rows": null,
       "height": null,
       "justify_content": null,
       "justify_items": null,
       "left": null,
       "margin": null,
       "max_height": null,
       "max_width": null,
       "min_height": null,
       "min_width": null,
       "object_fit": null,
       "object_position": null,
       "order": null,
       "overflow": null,
       "overflow_x": null,
       "overflow_y": null,
       "padding": null,
       "right": null,
       "top": null,
       "visibility": null,
       "width": null
      }
     },
     "5d8848e6195540a4925c09c1aac5f434": {
      "model_module": "@jupyter-widgets/base",
      "model_module_version": "1.2.0",
      "model_name": "LayoutModel",
      "state": {
       "_model_module": "@jupyter-widgets/base",
       "_model_module_version": "1.2.0",
       "_model_name": "LayoutModel",
       "_view_count": null,
       "_view_module": "@jupyter-widgets/base",
       "_view_module_version": "1.2.0",
       "_view_name": "LayoutView",
       "align_content": null,
       "align_items": null,
       "align_self": null,
       "border": null,
       "bottom": null,
       "display": null,
       "flex": null,
       "flex_flow": null,
       "grid_area": null,
       "grid_auto_columns": null,
       "grid_auto_flow": null,
       "grid_auto_rows": null,
       "grid_column": null,
       "grid_gap": null,
       "grid_row": null,
       "grid_template_areas": null,
       "grid_template_columns": null,
       "grid_template_rows": null,
       "height": null,
       "justify_content": null,
       "justify_items": null,
       "left": null,
       "margin": null,
       "max_height": null,
       "max_width": null,
       "min_height": null,
       "min_width": null,
       "object_fit": null,
       "object_position": null,
       "order": null,
       "overflow": null,
       "overflow_x": null,
       "overflow_y": null,
       "padding": null,
       "right": null,
       "top": null,
       "visibility": null,
       "width": null
      }
     },
     "606ec34e5ae2445c9d8f80479a6b3403": {
      "model_module": "@jupyter-widgets/controls",
      "model_module_version": "1.5.0",
      "model_name": "DescriptionStyleModel",
      "state": {
       "_model_module": "@jupyter-widgets/controls",
       "_model_module_version": "1.5.0",
       "_model_name": "DescriptionStyleModel",
       "_view_count": null,
       "_view_module": "@jupyter-widgets/base",
       "_view_module_version": "1.2.0",
       "_view_name": "StyleView",
       "description_width": ""
      }
     },
     "64df561823b248cb96b66e5c5905f967": {
      "model_module": "@jupyter-widgets/base",
      "model_module_version": "1.2.0",
      "model_name": "LayoutModel",
      "state": {
       "_model_module": "@jupyter-widgets/base",
       "_model_module_version": "1.2.0",
       "_model_name": "LayoutModel",
       "_view_count": null,
       "_view_module": "@jupyter-widgets/base",
       "_view_module_version": "1.2.0",
       "_view_name": "LayoutView",
       "align_content": null,
       "align_items": null,
       "align_self": null,
       "border": null,
       "bottom": null,
       "display": null,
       "flex": null,
       "flex_flow": null,
       "grid_area": null,
       "grid_auto_columns": null,
       "grid_auto_flow": null,
       "grid_auto_rows": null,
       "grid_column": null,
       "grid_gap": null,
       "grid_row": null,
       "grid_template_areas": null,
       "grid_template_columns": null,
       "grid_template_rows": null,
       "height": null,
       "justify_content": null,
       "justify_items": null,
       "left": null,
       "margin": null,
       "max_height": null,
       "max_width": null,
       "min_height": null,
       "min_width": null,
       "object_fit": null,
       "object_position": null,
       "order": null,
       "overflow": null,
       "overflow_x": null,
       "overflow_y": null,
       "padding": null,
       "right": null,
       "top": null,
       "visibility": null,
       "width": null
      }
     },
     "6f843ed5c16049e09bbd9ded51b09cc0": {
      "model_module": "@jupyter-widgets/base",
      "model_module_version": "1.2.0",
      "model_name": "LayoutModel",
      "state": {
       "_model_module": "@jupyter-widgets/base",
       "_model_module_version": "1.2.0",
       "_model_name": "LayoutModel",
       "_view_count": null,
       "_view_module": "@jupyter-widgets/base",
       "_view_module_version": "1.2.0",
       "_view_name": "LayoutView",
       "align_content": null,
       "align_items": null,
       "align_self": null,
       "border": null,
       "bottom": null,
       "display": null,
       "flex": null,
       "flex_flow": null,
       "grid_area": null,
       "grid_auto_columns": null,
       "grid_auto_flow": null,
       "grid_auto_rows": null,
       "grid_column": null,
       "grid_gap": null,
       "grid_row": null,
       "grid_template_areas": null,
       "grid_template_columns": null,
       "grid_template_rows": null,
       "height": null,
       "justify_content": null,
       "justify_items": null,
       "left": null,
       "margin": null,
       "max_height": null,
       "max_width": null,
       "min_height": null,
       "min_width": null,
       "object_fit": null,
       "object_position": null,
       "order": null,
       "overflow": null,
       "overflow_x": null,
       "overflow_y": null,
       "padding": null,
       "right": null,
       "top": null,
       "visibility": null,
       "width": null
      }
     },
     "7e1c8998fd0c45a49976efd407110f63": {
      "model_module": "@jupyter-widgets/base",
      "model_module_version": "1.2.0",
      "model_name": "LayoutModel",
      "state": {
       "_model_module": "@jupyter-widgets/base",
       "_model_module_version": "1.2.0",
       "_model_name": "LayoutModel",
       "_view_count": null,
       "_view_module": "@jupyter-widgets/base",
       "_view_module_version": "1.2.0",
       "_view_name": "LayoutView",
       "align_content": null,
       "align_items": null,
       "align_self": null,
       "border": null,
       "bottom": null,
       "display": null,
       "flex": null,
       "flex_flow": null,
       "grid_area": null,
       "grid_auto_columns": null,
       "grid_auto_flow": null,
       "grid_auto_rows": null,
       "grid_column": null,
       "grid_gap": null,
       "grid_row": null,
       "grid_template_areas": null,
       "grid_template_columns": null,
       "grid_template_rows": null,
       "height": null,
       "justify_content": null,
       "justify_items": null,
       "left": null,
       "margin": null,
       "max_height": null,
       "max_width": null,
       "min_height": null,
       "min_width": null,
       "object_fit": null,
       "object_position": null,
       "order": null,
       "overflow": null,
       "overflow_x": null,
       "overflow_y": null,
       "padding": null,
       "right": null,
       "top": null,
       "visibility": null,
       "width": null
      }
     },
     "7ee66a3f06a243d99411fb49321d97fd": {
      "model_module": "@jupyter-widgets/controls",
      "model_module_version": "1.5.0",
      "model_name": "FloatProgressModel",
      "state": {
       "_dom_classes": [],
       "_model_module": "@jupyter-widgets/controls",
       "_model_module_version": "1.5.0",
       "_model_name": "FloatProgressModel",
       "_view_count": null,
       "_view_module": "@jupyter-widgets/controls",
       "_view_module_version": "1.5.0",
       "_view_name": "ProgressView",
       "bar_style": "success",
       "description": "",
       "description_tooltip": null,
       "layout": "IPY_MODEL_5d8848e6195540a4925c09c1aac5f434",
       "max": 456318.0,
       "min": 0.0,
       "orientation": "horizontal",
       "style": "IPY_MODEL_950ef1190ace452cb4d0fbd439b4bf2c",
       "value": 456318.0
      }
     },
     "83fb857bf74e498e9fa8d39cfeb51ee3": {
      "model_module": "@jupyter-widgets/controls",
      "model_module_version": "1.5.0",
      "model_name": "HTMLModel",
      "state": {
       "_dom_classes": [],
       "_model_module": "@jupyter-widgets/controls",
       "_model_module_version": "1.5.0",
       "_model_name": "HTMLModel",
       "_view_count": null,
       "_view_module": "@jupyter-widgets/controls",
       "_view_module_version": "1.5.0",
       "_view_name": "HTMLView",
       "description": "",
       "description_tooltip": null,
       "layout": "IPY_MODEL_6f843ed5c16049e09bbd9ded51b09cc0",
       "placeholder": "​",
       "style": "IPY_MODEL_482ab655d27740b5b4a55fb542d814c3",
       "value": "Downloading builder script: "
      }
     },
     "8450058bacb04c439075fbf1360a663a": {
      "model_module": "@jupyter-widgets/controls",
      "model_module_version": "1.5.0",
      "model_name": "HTMLModel",
      "state": {
       "_dom_classes": [],
       "_model_module": "@jupyter-widgets/controls",
       "_model_module_version": "1.5.0",
       "_model_name": "HTMLModel",
       "_view_count": null,
       "_view_module": "@jupyter-widgets/controls",
       "_view_module_version": "1.5.0",
       "_view_name": "HTMLView",
       "description": "",
       "description_tooltip": null,
       "layout": "IPY_MODEL_d86c442670e745eb84b0b2a66d01207d",
       "placeholder": "​",
       "style": "IPY_MODEL_150c081d6b694a5f9ca3351747b20f8b",
       "value": " 5.60k/? [00:00&lt;00:00, 272kB/s]"
      }
     },
     "86695f359543405ea04c89b4ff3189b0": {
      "model_module": "@jupyter-widgets/controls",
      "model_module_version": "1.5.0",
      "model_name": "DescriptionStyleModel",
      "state": {
       "_model_module": "@jupyter-widgets/controls",
       "_model_module_version": "1.5.0",
       "_model_name": "DescriptionStyleModel",
       "_view_count": null,
       "_view_module": "@jupyter-widgets/base",
       "_view_module_version": "1.2.0",
       "_view_name": "StyleView",
       "description_width": ""
      }
     },
     "871e5f922c0e499a8844ebc78ee962bb": {
      "model_module": "@jupyter-widgets/controls",
      "model_module_version": "1.5.0",
      "model_name": "HBoxModel",
      "state": {
       "_dom_classes": [],
       "_model_module": "@jupyter-widgets/controls",
       "_model_module_version": "1.5.0",
       "_model_name": "HBoxModel",
       "_view_count": null,
       "_view_module": "@jupyter-widgets/controls",
       "_view_module_version": "1.5.0",
       "_view_name": "HBoxView",
       "box_style": "",
       "children": [
        "IPY_MODEL_e8ac7e6fbe894747aac4212bfb08b790",
        "IPY_MODEL_ecdf9ea5310a4522bc490c6f85af38bd",
        "IPY_MODEL_28989e0e28a14ed6967f6aca0481c19b"
       ],
       "layout": "IPY_MODEL_f2672c0c7c48488b8efdd1bd8c1aefb1"
      }
     },
     "8deae22cb3414ae48cf975e2dc5b7cdc": {
      "model_module": "@jupyter-widgets/base",
      "model_module_version": "1.2.0",
      "model_name": "LayoutModel",
      "state": {
       "_model_module": "@jupyter-widgets/base",
       "_model_module_version": "1.2.0",
       "_model_name": "LayoutModel",
       "_view_count": null,
       "_view_module": "@jupyter-widgets/base",
       "_view_module_version": "1.2.0",
       "_view_name": "LayoutView",
       "align_content": null,
       "align_items": null,
       "align_self": null,
       "border": null,
       "bottom": null,
       "display": null,
       "flex": null,
       "flex_flow": null,
       "grid_area": null,
       "grid_auto_columns": null,
       "grid_auto_flow": null,
       "grid_auto_rows": null,
       "grid_column": null,
       "grid_gap": null,
       "grid_row": null,
       "grid_template_areas": null,
       "grid_template_columns": null,
       "grid_template_rows": null,
       "height": null,
       "justify_content": null,
       "justify_items": null,
       "left": null,
       "margin": null,
       "max_height": null,
       "max_width": null,
       "min_height": null,
       "min_width": null,
       "object_fit": null,
       "object_position": null,
       "order": null,
       "overflow": null,
       "overflow_x": null,
       "overflow_y": null,
       "padding": null,
       "right": null,
       "top": null,
       "visibility": null,
       "width": null
      }
     },
     "907b93fa4afa49688ec7325c3b8179ac": {
      "model_module": "@jupyter-widgets/controls",
      "model_module_version": "1.5.0",
      "model_name": "ProgressStyleModel",
      "state": {
       "_model_module": "@jupyter-widgets/controls",
       "_model_module_version": "1.5.0",
       "_model_name": "ProgressStyleModel",
       "_view_count": null,
       "_view_module": "@jupyter-widgets/base",
       "_view_module_version": "1.2.0",
       "_view_name": "StyleView",
       "bar_color": null,
       "description_width": ""
      }
     },
     "91e2a1446e07431790024ac5138a0301": {
      "model_module": "@jupyter-widgets/controls",
      "model_module_version": "1.5.0",
      "model_name": "HTMLModel",
      "state": {
       "_dom_classes": [],
       "_model_module": "@jupyter-widgets/controls",
       "_model_module_version": "1.5.0",
       "_model_name": "HTMLModel",
       "_view_count": null,
       "_view_module": "@jupyter-widgets/controls",
       "_view_module_version": "1.5.0",
       "_view_name": "HTMLView",
       "description": "",
       "description_tooltip": null,
       "layout": "IPY_MODEL_16ec0893a468461f8c001c130b79019f",
       "placeholder": "​",
       "style": "IPY_MODEL_c7563a2a6ca744aab007f6a5f252c8a9",
       "value": " 1.36M/1.36M [00:00&lt;00:00, 7.60MB/s]"
      }
     },
     "950ef1190ace452cb4d0fbd439b4bf2c": {
      "model_module": "@jupyter-widgets/controls",
      "model_module_version": "1.5.0",
      "model_name": "ProgressStyleModel",
      "state": {
       "_model_module": "@jupyter-widgets/controls",
       "_model_module_version": "1.5.0",
       "_model_name": "ProgressStyleModel",
       "_view_count": null,
       "_view_module": "@jupyter-widgets/base",
       "_view_module_version": "1.2.0",
       "_view_name": "StyleView",
       "bar_color": null,
       "description_width": ""
      }
     },
     "958d2aefff3a4c548fc78a554063f2e6": {
      "model_module": "@jupyter-widgets/base",
      "model_module_version": "1.2.0",
      "model_name": "LayoutModel",
      "state": {
       "_model_module": "@jupyter-widgets/base",
       "_model_module_version": "1.2.0",
       "_model_name": "LayoutModel",
       "_view_count": null,
       "_view_module": "@jupyter-widgets/base",
       "_view_module_version": "1.2.0",
       "_view_name": "LayoutView",
       "align_content": null,
       "align_items": null,
       "align_self": null,
       "border": null,
       "bottom": null,
       "display": null,
       "flex": null,
       "flex_flow": null,
       "grid_area": null,
       "grid_auto_columns": null,
       "grid_auto_flow": null,
       "grid_auto_rows": null,
       "grid_column": null,
       "grid_gap": null,
       "grid_row": null,
       "grid_template_areas": null,
       "grid_template_columns": null,
       "grid_template_rows": null,
       "height": null,
       "justify_content": null,
       "justify_items": null,
       "left": null,
       "margin": null,
       "max_height": null,
       "max_width": null,
       "min_height": null,
       "min_width": null,
       "object_fit": null,
       "object_position": null,
       "order": null,
       "overflow": null,
       "overflow_x": null,
       "overflow_y": null,
       "padding": null,
       "right": null,
       "top": null,
       "visibility": null,
       "width": null
      }
     },
     "a224c2aa8bea43f7abb02ce689c1e9be": {
      "model_module": "@jupyter-widgets/controls",
      "model_module_version": "1.5.0",
      "model_name": "DescriptionStyleModel",
      "state": {
       "_model_module": "@jupyter-widgets/controls",
       "_model_module_version": "1.5.0",
       "_model_name": "DescriptionStyleModel",
       "_view_count": null,
       "_view_module": "@jupyter-widgets/base",
       "_view_module_version": "1.2.0",
       "_view_name": "StyleView",
       "description_width": ""
      }
     },
     "aeca0cb7a6a142bd9c582281a6fc3af9": {
      "model_module": "@jupyter-widgets/controls",
      "model_module_version": "1.5.0",
      "model_name": "DescriptionStyleModel",
      "state": {
       "_model_module": "@jupyter-widgets/controls",
       "_model_module_version": "1.5.0",
       "_model_name": "DescriptionStyleModel",
       "_view_count": null,
       "_view_module": "@jupyter-widgets/base",
       "_view_module_version": "1.2.0",
       "_view_name": "StyleView",
       "description_width": ""
      }
     },
     "b2acd0683cb249128b3f1bde25fb077f": {
      "model_module": "@jupyter-widgets/controls",
      "model_module_version": "1.5.0",
      "model_name": "DescriptionStyleModel",
      "state": {
       "_model_module": "@jupyter-widgets/controls",
       "_model_module_version": "1.5.0",
       "_model_name": "DescriptionStyleModel",
       "_view_count": null,
       "_view_module": "@jupyter-widgets/base",
       "_view_module_version": "1.2.0",
       "_view_name": "StyleView",
       "description_width": ""
      }
     },
     "b7102440a799420a95dbb684a6773e4d": {
      "model_module": "@jupyter-widgets/controls",
      "model_module_version": "1.5.0",
      "model_name": "HTMLModel",
      "state": {
       "_dom_classes": [],
       "_model_module": "@jupyter-widgets/controls",
       "_model_module_version": "1.5.0",
       "_model_name": "HTMLModel",
       "_view_count": null,
       "_view_module": "@jupyter-widgets/controls",
       "_view_module_version": "1.5.0",
       "_view_name": "HTMLView",
       "description": "",
       "description_tooltip": null,
       "layout": "IPY_MODEL_958d2aefff3a4c548fc78a554063f2e6",
       "placeholder": "​",
       "style": "IPY_MODEL_aeca0cb7a6a142bd9c582281a6fc3af9",
       "value": " 899k/899k [00:00&lt;00:00, 6.71MB/s]"
      }
     },
     "bdd861aa053340d4a1d27c67ca518782": {
      "model_module": "@jupyter-widgets/base",
      "model_module_version": "1.2.0",
      "model_name": "LayoutModel",
      "state": {
       "_model_module": "@jupyter-widgets/base",
       "_model_module_version": "1.2.0",
       "_model_name": "LayoutModel",
       "_view_count": null,
       "_view_module": "@jupyter-widgets/base",
       "_view_module_version": "1.2.0",
       "_view_name": "LayoutView",
       "align_content": null,
       "align_items": null,
       "align_self": null,
       "border": null,
       "bottom": null,
       "display": null,
       "flex": null,
       "flex_flow": null,
       "grid_area": null,
       "grid_auto_columns": null,
       "grid_auto_flow": null,
       "grid_auto_rows": null,
       "grid_column": null,
       "grid_gap": null,
       "grid_row": null,
       "grid_template_areas": null,
       "grid_template_columns": null,
       "grid_template_rows": null,
       "height": null,
       "justify_content": null,
       "justify_items": null,
       "left": null,
       "margin": null,
       "max_height": null,
       "max_width": null,
       "min_height": null,
       "min_width": null,
       "object_fit": null,
       "object_position": null,
       "order": null,
       "overflow": null,
       "overflow_x": null,
       "overflow_y": null,
       "padding": null,
       "right": null,
       "top": null,
       "visibility": null,
       "width": null
      }
     },
     "bf20377c53d0485d9c43231d03dd045b": {
      "model_module": "@jupyter-widgets/controls",
      "model_module_version": "1.5.0",
      "model_name": "HTMLModel",
      "state": {
       "_dom_classes": [],
       "_model_module": "@jupyter-widgets/controls",
       "_model_module_version": "1.5.0",
       "_model_name": "HTMLModel",
       "_view_count": null,
       "_view_module": "@jupyter-widgets/controls",
       "_view_module_version": "1.5.0",
       "_view_name": "HTMLView",
       "description": "",
       "description_tooltip": null,
       "layout": "IPY_MODEL_d5b206c7f46a4793b6ff677dad62523f",
       "placeholder": "​",
       "style": "IPY_MODEL_a224c2aa8bea43f7abb02ce689c1e9be",
       "value": " 456k/456k [00:00&lt;00:00, 4.93MB/s]"
      }
     },
     "c66bdfd78d2440138b29c810b1e21e09": {
      "model_module": "@jupyter-widgets/base",
      "model_module_version": "1.2.0",
      "model_name": "LayoutModel",
      "state": {
       "_model_module": "@jupyter-widgets/base",
       "_model_module_version": "1.2.0",
       "_model_name": "LayoutModel",
       "_view_count": null,
       "_view_module": "@jupyter-widgets/base",
       "_view_module_version": "1.2.0",
       "_view_name": "LayoutView",
       "align_content": null,
       "align_items": null,
       "align_self": null,
       "border": null,
       "bottom": null,
       "display": null,
       "flex": null,
       "flex_flow": null,
       "grid_area": null,
       "grid_auto_columns": null,
       "grid_auto_flow": null,
       "grid_auto_rows": null,
       "grid_column": null,
       "grid_gap": null,
       "grid_row": null,
       "grid_template_areas": null,
       "grid_template_columns": null,
       "grid_template_rows": null,
       "height": null,
       "justify_content": null,
       "justify_items": null,
       "left": null,
       "margin": null,
       "max_height": null,
       "max_width": null,
       "min_height": null,
       "min_width": null,
       "object_fit": null,
       "object_position": null,
       "order": null,
       "overflow": null,
       "overflow_x": null,
       "overflow_y": null,
       "padding": null,
       "right": null,
       "top": null,
       "visibility": null,
       "width": null
      }
     },
     "c7563a2a6ca744aab007f6a5f252c8a9": {
      "model_module": "@jupyter-widgets/controls",
      "model_module_version": "1.5.0",
      "model_name": "DescriptionStyleModel",
      "state": {
       "_model_module": "@jupyter-widgets/controls",
       "_model_module_version": "1.5.0",
       "_model_name": "DescriptionStyleModel",
       "_view_count": null,
       "_view_module": "@jupyter-widgets/base",
       "_view_module_version": "1.2.0",
       "_view_name": "StyleView",
       "description_width": ""
      }
     },
     "d0f26f7e65394d30aa850017aee245e6": {
      "model_module": "@jupyter-widgets/controls",
      "model_module_version": "1.5.0",
      "model_name": "HBoxModel",
      "state": {
       "_dom_classes": [],
       "_model_module": "@jupyter-widgets/controls",
       "_model_module_version": "1.5.0",
       "_model_name": "HBoxModel",
       "_view_count": null,
       "_view_module": "@jupyter-widgets/controls",
       "_view_module_version": "1.5.0",
       "_view_name": "HBoxView",
       "box_style": "",
       "children": [
        "IPY_MODEL_eb839353ded44ccd8e6a7f4c0c11e87e",
        "IPY_MODEL_02f743da4ce646aa9aaf19e741cf4b29",
        "IPY_MODEL_b7102440a799420a95dbb684a6773e4d"
       ],
       "layout": "IPY_MODEL_061abdd605fd4021912e5622a587b9f0"
      }
     },
     "d5b206c7f46a4793b6ff677dad62523f": {
      "model_module": "@jupyter-widgets/base",
      "model_module_version": "1.2.0",
      "model_name": "LayoutModel",
      "state": {
       "_model_module": "@jupyter-widgets/base",
       "_model_module_version": "1.2.0",
       "_model_name": "LayoutModel",
       "_view_count": null,
       "_view_module": "@jupyter-widgets/base",
       "_view_module_version": "1.2.0",
       "_view_name": "LayoutView",
       "align_content": null,
       "align_items": null,
       "align_self": null,
       "border": null,
       "bottom": null,
       "display": null,
       "flex": null,
       "flex_flow": null,
       "grid_area": null,
       "grid_auto_columns": null,
       "grid_auto_flow": null,
       "grid_auto_rows": null,
       "grid_column": null,
       "grid_gap": null,
       "grid_row": null,
       "grid_template_areas": null,
       "grid_template_columns": null,
       "grid_template_rows": null,
       "height": null,
       "justify_content": null,
       "justify_items": null,
       "left": null,
       "margin": null,
       "max_height": null,
       "max_width": null,
       "min_height": null,
       "min_width": null,
       "object_fit": null,
       "object_position": null,
       "order": null,
       "overflow": null,
       "overflow_x": null,
       "overflow_y": null,
       "padding": null,
       "right": null,
       "top": null,
       "visibility": null,
       "width": null
      }
     },
     "d86c442670e745eb84b0b2a66d01207d": {
      "model_module": "@jupyter-widgets/base",
      "model_module_version": "1.2.0",
      "model_name": "LayoutModel",
      "state": {
       "_model_module": "@jupyter-widgets/base",
       "_model_module_version": "1.2.0",
       "_model_name": "LayoutModel",
       "_view_count": null,
       "_view_module": "@jupyter-widgets/base",
       "_view_module_version": "1.2.0",
       "_view_name": "LayoutView",
       "align_content": null,
       "align_items": null,
       "align_self": null,
       "border": null,
       "bottom": null,
       "display": null,
       "flex": null,
       "flex_flow": null,
       "grid_area": null,
       "grid_auto_columns": null,
       "grid_auto_flow": null,
       "grid_auto_rows": null,
       "grid_column": null,
       "grid_gap": null,
       "grid_row": null,
       "grid_template_areas": null,
       "grid_template_columns": null,
       "grid_template_rows": null,
       "height": null,
       "justify_content": null,
       "justify_items": null,
       "left": null,
       "margin": null,
       "max_height": null,
       "max_width": null,
       "min_height": null,
       "min_width": null,
       "object_fit": null,
       "object_position": null,
       "order": null,
       "overflow": null,
       "overflow_x": null,
       "overflow_y": null,
       "padding": null,
       "right": null,
       "top": null,
       "visibility": null,
       "width": null
      }
     },
     "db909d71fbaa4650b769ad3c1af0691c": {
      "model_module": "@jupyter-widgets/base",
      "model_module_version": "1.2.0",
      "model_name": "LayoutModel",
      "state": {
       "_model_module": "@jupyter-widgets/base",
       "_model_module_version": "1.2.0",
       "_model_name": "LayoutModel",
       "_view_count": null,
       "_view_module": "@jupyter-widgets/base",
       "_view_module_version": "1.2.0",
       "_view_name": "LayoutView",
       "align_content": null,
       "align_items": null,
       "align_self": null,
       "border": null,
       "bottom": null,
       "display": null,
       "flex": null,
       "flex_flow": null,
       "grid_area": null,
       "grid_auto_columns": null,
       "grid_auto_flow": null,
       "grid_auto_rows": null,
       "grid_column": null,
       "grid_gap": null,
       "grid_row": null,
       "grid_template_areas": null,
       "grid_template_columns": null,
       "grid_template_rows": null,
       "height": null,
       "justify_content": null,
       "justify_items": null,
       "left": null,
       "margin": null,
       "max_height": null,
       "max_width": null,
       "min_height": null,
       "min_width": null,
       "object_fit": null,
       "object_position": null,
       "order": null,
       "overflow": null,
       "overflow_x": null,
       "overflow_y": null,
       "padding": null,
       "right": null,
       "top": null,
       "visibility": null,
       "width": null
      }
     },
     "de198845fb204d1f9f17cbc9819f2473": {
      "model_module": "@jupyter-widgets/controls",
      "model_module_version": "1.5.0",
      "model_name": "HTMLModel",
      "state": {
       "_dom_classes": [],
       "_model_module": "@jupyter-widgets/controls",
       "_model_module_version": "1.5.0",
       "_model_name": "HTMLModel",
       "_view_count": null,
       "_view_module": "@jupyter-widgets/controls",
       "_view_module_version": "1.5.0",
       "_view_name": "HTMLView",
       "description": "",
       "description_tooltip": null,
       "layout": "IPY_MODEL_f00ab0058b2440a0a74aeacc930f9297",
       "placeholder": "​",
       "style": "IPY_MODEL_86695f359543405ea04c89b4ff3189b0",
       "value": "Downloading (…)olve/main/merges.txt: 100%"
      }
     },
     "e172bea8bd9d49d088f2c3e93c399d81": {
      "model_module": "@jupyter-widgets/controls",
      "model_module_version": "1.5.0",
      "model_name": "HBoxModel",
      "state": {
       "_dom_classes": [],
       "_model_module": "@jupyter-widgets/controls",
       "_model_module_version": "1.5.0",
       "_model_name": "HBoxModel",
       "_view_count": null,
       "_view_module": "@jupyter-widgets/controls",
       "_view_module_version": "1.5.0",
       "_view_name": "HBoxView",
       "box_style": "",
       "children": [
        "IPY_MODEL_83fb857bf74e498e9fa8d39cfeb51ee3",
        "IPY_MODEL_0f12e7a05f8f42f6b2fcffe1553d87c1",
        "IPY_MODEL_8450058bacb04c439075fbf1360a663a"
       ],
       "layout": "IPY_MODEL_58496b9bb30a42959cdecd6f8482a63c"
      }
     },
     "e8ac7e6fbe894747aac4212bfb08b790": {
      "model_module": "@jupyter-widgets/controls",
      "model_module_version": "1.5.0",
      "model_name": "HTMLModel",
      "state": {
       "_dom_classes": [],
       "_model_module": "@jupyter-widgets/controls",
       "_model_module_version": "1.5.0",
       "_model_name": "HTMLModel",
       "_view_count": null,
       "_view_module": "@jupyter-widgets/controls",
       "_view_module_version": "1.5.0",
       "_view_name": "HTMLView",
       "description": "",
       "description_tooltip": null,
       "layout": "IPY_MODEL_bdd861aa053340d4a1d27c67ca518782",
       "placeholder": "​",
       "style": "IPY_MODEL_177344af13774d49aef23d69f45cca6f",
       "value": "Downloading (…)lve/main/config.json: 100%"
      }
     },
     "eb839353ded44ccd8e6a7f4c0c11e87e": {
      "model_module": "@jupyter-widgets/controls",
      "model_module_version": "1.5.0",
      "model_name": "HTMLModel",
      "state": {
       "_dom_classes": [],
       "_model_module": "@jupyter-widgets/controls",
       "_model_module_version": "1.5.0",
       "_model_name": "HTMLModel",
       "_view_count": null,
       "_view_module": "@jupyter-widgets/controls",
       "_view_module_version": "1.5.0",
       "_view_name": "HTMLView",
       "description": "",
       "description_tooltip": null,
       "layout": "IPY_MODEL_7e1c8998fd0c45a49976efd407110f63",
       "placeholder": "​",
       "style": "IPY_MODEL_606ec34e5ae2445c9d8f80479a6b3403",
       "value": "Downloading (…)olve/main/vocab.json: 100%"
      }
     },
     "ecdf9ea5310a4522bc490c6f85af38bd": {
      "model_module": "@jupyter-widgets/controls",
      "model_module_version": "1.5.0",
      "model_name": "FloatProgressModel",
      "state": {
       "_dom_classes": [],
       "_model_module": "@jupyter-widgets/controls",
       "_model_module_version": "1.5.0",
       "_model_name": "FloatProgressModel",
       "_view_count": null,
       "_view_module": "@jupyter-widgets/controls",
       "_view_module_version": "1.5.0",
       "_view_name": "ProgressView",
       "bar_style": "success",
       "description": "",
       "description_tooltip": null,
       "layout": "IPY_MODEL_31af7a6db4f340188f6c97aadbad09bf",
       "max": 481.0,
       "min": 0.0,
       "orientation": "horizontal",
       "style": "IPY_MODEL_3e160b934e74432f91a331e0d7eb7e83",
       "value": 481.0
      }
     },
     "f00ab0058b2440a0a74aeacc930f9297": {
      "model_module": "@jupyter-widgets/base",
      "model_module_version": "1.2.0",
      "model_name": "LayoutModel",
      "state": {
       "_model_module": "@jupyter-widgets/base",
       "_model_module_version": "1.2.0",
       "_model_name": "LayoutModel",
       "_view_count": null,
       "_view_module": "@jupyter-widgets/base",
       "_view_module_version": "1.2.0",
       "_view_name": "LayoutView",
       "align_content": null,
       "align_items": null,
       "align_self": null,
       "border": null,
       "bottom": null,
       "display": null,
       "flex": null,
       "flex_flow": null,
       "grid_area": null,
       "grid_auto_columns": null,
       "grid_auto_flow": null,
       "grid_auto_rows": null,
       "grid_column": null,
       "grid_gap": null,
       "grid_row": null,
       "grid_template_areas": null,
       "grid_template_columns": null,
       "grid_template_rows": null,
       "height": null,
       "justify_content": null,
       "justify_items": null,
       "left": null,
       "margin": null,
       "max_height": null,
       "max_width": null,
       "min_height": null,
       "min_width": null,
       "object_fit": null,
       "object_position": null,
       "order": null,
       "overflow": null,
       "overflow_x": null,
       "overflow_y": null,
       "padding": null,
       "right": null,
       "top": null,
       "visibility": null,
       "width": null
      }
     },
     "f2672c0c7c48488b8efdd1bd8c1aefb1": {
      "model_module": "@jupyter-widgets/base",
      "model_module_version": "1.2.0",
      "model_name": "LayoutModel",
      "state": {
       "_model_module": "@jupyter-widgets/base",
       "_model_module_version": "1.2.0",
       "_model_name": "LayoutModel",
       "_view_count": null,
       "_view_module": "@jupyter-widgets/base",
       "_view_module_version": "1.2.0",
       "_view_name": "LayoutView",
       "align_content": null,
       "align_items": null,
       "align_self": null,
       "border": null,
       "bottom": null,
       "display": null,
       "flex": null,
       "flex_flow": null,
       "grid_area": null,
       "grid_auto_columns": null,
       "grid_auto_flow": null,
       "grid_auto_rows": null,
       "grid_column": null,
       "grid_gap": null,
       "grid_row": null,
       "grid_template_areas": null,
       "grid_template_columns": null,
       "grid_template_rows": null,
       "height": null,
       "justify_content": null,
       "justify_items": null,
       "left": null,
       "margin": null,
       "max_height": null,
       "max_width": null,
       "min_height": null,
       "min_width": null,
       "object_fit": null,
       "object_position": null,
       "order": null,
       "overflow": null,
       "overflow_x": null,
       "overflow_y": null,
       "padding": null,
       "right": null,
       "top": null,
       "visibility": null,
       "width": null
      }
     }
    },
    "version_major": 2,
    "version_minor": 0
   }
  }
 },
 "nbformat": 4,
 "nbformat_minor": 5
}
